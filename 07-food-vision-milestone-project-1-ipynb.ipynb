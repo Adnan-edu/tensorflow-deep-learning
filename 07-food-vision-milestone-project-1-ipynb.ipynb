{
 "cells": [
  {
   "cell_type": "markdown",
   "metadata": {
    "id": "gGxtSFM7SFMO"
   },
   "source": [
    "# Milestone Project 1: Food Vision Big"
   ]
  },
  {
   "cell_type": "markdown",
   "metadata": {
    "id": "Jb1VaJ4cSeUe"
   },
   "source": [
    "## Check GPU"
   ]
  },
  {
   "cell_type": "code",
   "execution_count": 4,
   "metadata": {
    "colab": {
     "base_uri": "https://localhost:8080/"
    },
    "execution": {
     "iopub.execute_input": "2025-01-14T05:46:01.527068Z",
     "iopub.status.busy": "2025-01-14T05:46:01.526767Z",
     "iopub.status.idle": "2025-01-14T05:46:01.668284Z",
     "shell.execute_reply": "2025-01-14T05:46:01.667511Z",
     "shell.execute_reply.started": "2025-01-14T05:46:01.527042Z"
    },
    "id": "1ie4R7K7R-WA",
    "outputId": "18cbb9ca-1787-4075-cf75-4172dd43ce18",
    "trusted": true
   },
   "outputs": [
    {
     "name": "stdout",
     "output_type": "stream",
     "text": [
      "GPU 0: Tesla T4 (UUID: GPU-c27b941d-139b-f1b3-bb6b-7a00e7fe7637)\n",
      "GPU 1: Tesla T4 (UUID: GPU-d20d4b1e-2a1a-9db1-1fe4-81893f0b9e5e)\n"
     ]
    }
   ],
   "source": [
    "# If the following line doesn't output \"Tesla T4\", you can try getting access to\n",
    "# another GPU by going to Runtime -> Factory Reset Runtime -> \"Yes\" and then\n",
    "# re-running this cell.\n",
    "!nvidia-smi -L"
   ]
  },
  {
   "cell_type": "markdown",
   "metadata": {
    "id": "cdTgMlouVS2m"
   },
   "source": [
    "## Get helper functions"
   ]
  },
  {
   "cell_type": "code",
   "execution_count": 5,
   "metadata": {
    "colab": {
     "base_uri": "https://localhost:8080/"
    },
    "execution": {
     "iopub.execute_input": "2025-01-14T05:46:03.742042Z",
     "iopub.status.busy": "2025-01-14T05:46:03.741682Z",
     "iopub.status.idle": "2025-01-14T05:46:04.004400Z",
     "shell.execute_reply": "2025-01-14T05:46:04.003443Z",
     "shell.execute_reply.started": "2025-01-14T05:46:03.742015Z"
    },
    "id": "IFNqUAxIVT1g",
    "outputId": "edcd2001-2ffa-4521-94a3-74745d149e50",
    "trusted": true
   },
   "outputs": [
    {
     "name": "stdout",
     "output_type": "stream",
     "text": [
      "--2025-01-14 05:46:03--  https://raw.githubusercontent.com/mrdbourke/tensorflow-deep-learning/main/extras/helper_functions.py\n",
      "Resolving raw.githubusercontent.com (raw.githubusercontent.com)... 185.199.108.133, 185.199.109.133, 185.199.110.133, ...\n",
      "Connecting to raw.githubusercontent.com (raw.githubusercontent.com)|185.199.108.133|:443... connected.\n",
      "HTTP request sent, awaiting response... 200 OK\n",
      "Length: 10246 (10K) [text/plain]\n",
      "Saving to: ‘helper_functions.py.1’\n",
      "\n",
      "helper_functions.py 100%[===================>]  10.01K  --.-KB/s    in 0s      \n",
      "\n",
      "2025-01-14 05:46:03 (90.5 MB/s) - ‘helper_functions.py.1’ saved [10246/10246]\n",
      "\n"
     ]
    }
   ],
   "source": [
    "# Download helper functions script\n",
    "!wget https://raw.githubusercontent.com/mrdbourke/tensorflow-deep-learning/main/extras/helper_functions.py"
   ]
  },
  {
   "cell_type": "code",
   "execution_count": 6,
   "metadata": {
    "execution": {
     "iopub.execute_input": "2025-01-14T05:46:04.228591Z",
     "iopub.status.busy": "2025-01-14T05:46:04.228339Z",
     "iopub.status.idle": "2025-01-14T05:46:12.383496Z",
     "shell.execute_reply": "2025-01-14T05:46:12.382853Z",
     "shell.execute_reply.started": "2025-01-14T05:46:04.228570Z"
    },
    "id": "Nlmgd07DVWtN",
    "trusted": true
   },
   "outputs": [],
   "source": [
    "# Import series of helper functions for the notebook\n",
    "from helper_functions import create_tensorboard_callback, plot_loss_curves, compare_historys"
   ]
  },
  {
   "cell_type": "markdown",
   "metadata": {
    "id": "VA9vSFhLV0EU"
   },
   "source": [
    "## Use TensorFlow Datasets to Download Data\n",
    "\n",
    "If you want to get an overview of TensorFlow Datasets (TFDS), read the guide: https://www.tensorflow.org/datasets/overview\n",
    "\n"
   ]
  },
  {
   "cell_type": "code",
   "execution_count": 7,
   "metadata": {
    "execution": {
     "iopub.execute_input": "2025-01-14T05:46:23.035646Z",
     "iopub.status.busy": "2025-01-14T05:46:23.035083Z",
     "iopub.status.idle": "2025-01-14T05:46:23.513842Z",
     "shell.execute_reply": "2025-01-14T05:46:23.512948Z",
     "shell.execute_reply.started": "2025-01-14T05:46:23.035617Z"
    },
    "id": "CHVFILGSVbXa",
    "trusted": true
   },
   "outputs": [],
   "source": [
    "# Get TensorFlow Datasets\n",
    "import tensorflow_datasets as tfds"
   ]
  },
  {
   "cell_type": "code",
   "execution_count": 8,
   "metadata": {
    "colab": {
     "base_uri": "https://localhost:8080/"
    },
    "execution": {
     "iopub.execute_input": "2025-01-14T05:46:23.651455Z",
     "iopub.status.busy": "2025-01-14T05:46:23.651225Z",
     "iopub.status.idle": "2025-01-14T05:46:26.012711Z",
     "shell.execute_reply": "2025-01-14T05:46:26.011979Z",
     "shell.execute_reply.started": "2025-01-14T05:46:23.651437Z"
    },
    "id": "LeSaSAJiFqYu",
    "outputId": "956b48dd-f91e-4702-bc32-9f8ea40039cb",
    "trusted": true
   },
   "outputs": [
    {
     "name": "stdout",
     "output_type": "stream",
     "text": [
      "True\n"
     ]
    }
   ],
   "source": [
    "# List all available datasets\n",
    "datasets_list = tfds.list_builders() # get all available datasets in TFDS\n",
    "print(\"food101\" in datasets_list) # is our target dataset in the list of TFDS datasets?"
   ]
  },
  {
   "cell_type": "code",
   "execution_count": null,
   "metadata": {
    "execution": {
     "iopub.execute_input": "2025-01-14T05:47:00.876895Z",
     "iopub.status.busy": "2025-01-14T05:47:00.876578Z"
    },
    "id": "TDfslqI3GBUZ",
    "trusted": true
   },
   "outputs": [
    {
     "name": "stdout",
     "output_type": "stream",
     "text": [
      "Downloading and preparing dataset 4.65 GiB (download: 4.65 GiB, generated: Unknown size, total: 4.65 GiB) to /root/tensorflow_datasets/food101/2.0.0...\n"
     ]
    },
    {
     "data": {
      "application/vnd.jupyter.widget-view+json": {
       "model_id": "756b0c9c8c904c7f80c534b06650b36f",
       "version_major": 2,
       "version_minor": 0
      },
      "text/plain": [
       "Dl Completed...: 0 url [00:00, ? url/s]"
      ]
     },
     "metadata": {},
     "output_type": "display_data"
    },
    {
     "data": {
      "application/vnd.jupyter.widget-view+json": {
       "model_id": "4da66f5200574258912b80d7b7f2666e",
       "version_major": 2,
       "version_minor": 0
      },
      "text/plain": [
       "Dl Size...: 0 MiB [00:00, ? MiB/s]"
      ]
     },
     "metadata": {},
     "output_type": "display_data"
    },
    {
     "data": {
      "application/vnd.jupyter.widget-view+json": {
       "model_id": "9edbe849b7d64dcbb3c759f7ce68cfe3",
       "version_major": 2,
       "version_minor": 0
      },
      "text/plain": [
       "Extraction completed...: 0 file [00:00, ? file/s]"
      ]
     },
     "metadata": {},
     "output_type": "display_data"
    }
   ],
   "source": [
    "# Load in the data (takes 5-6 minutes in Google Colab)\n",
    "(train_data, test_data), ds_info = tfds.load(name=\"food101\",\n",
    "                                             split=[\"train\", \"validation\"],\n",
    "                                             shuffle_files=True,\n",
    "                                             as_supervised=True, # data gets returned in tuple format (data, label)\n",
    "                                             with_info=True)"
   ]
  },
  {
   "cell_type": "markdown",
   "metadata": {
    "id": "JMdlIAbdKm_v"
   },
   "source": [
    "## Exploring the Food101 data from TensorFlow Datasets\n",
    "\n",
    "To become one with our data, we want to find:\n",
    "\n",
    "* Class names\n",
    "\n",
    "* The shape of our input data (image tensors)\n",
    "\n",
    "* The datatype of our input data\n",
    "\n",
    "* What the labels look like (e.g. are they one-hot encoded or are they label encoded)\n",
    "\n",
    "* Do the labels match up with the class names?"
   ]
  },
  {
   "cell_type": "code",
   "execution_count": 10,
   "metadata": {
    "colab": {
     "base_uri": "https://localhost:8080/"
    },
    "execution": {
     "iopub.execute_input": "2025-01-14T06:43:41.328904Z",
     "iopub.status.busy": "2025-01-14T06:43:41.328576Z",
     "iopub.status.idle": "2025-01-14T06:43:41.334127Z",
     "shell.execute_reply": "2025-01-14T06:43:41.333396Z",
     "shell.execute_reply.started": "2025-01-14T06:43:41.328877Z"
    },
    "id": "MhWHDcYhJFkD",
    "outputId": "cfb4fbed-9c6b-4d60-a2d5-94759d01adb6",
    "trusted": true
   },
   "outputs": [
    {
     "data": {
      "text/plain": [
       "FeaturesDict({\n",
       "    'image': Image(shape=(None, None, 3), dtype=uint8),\n",
       "    'label': ClassLabel(shape=(), dtype=int64, num_classes=101),\n",
       "})"
      ]
     },
     "execution_count": 10,
     "metadata": {},
     "output_type": "execute_result"
    }
   ],
   "source": [
    "# Features of Food101 from TFDS\n",
    "ds_info.features"
   ]
  },
  {
   "cell_type": "code",
   "execution_count": 11,
   "metadata": {
    "colab": {
     "base_uri": "https://localhost:8080/"
    },
    "execution": {
     "iopub.execute_input": "2025-01-14T06:43:44.201804Z",
     "iopub.status.busy": "2025-01-14T06:43:44.201507Z",
     "iopub.status.idle": "2025-01-14T06:43:44.206804Z",
     "shell.execute_reply": "2025-01-14T06:43:44.206122Z",
     "shell.execute_reply.started": "2025-01-14T06:43:44.201781Z"
    },
    "id": "JbcuoRjmJ3Wk",
    "outputId": "1561c7d7-1ce0-446a-b1b5-21e69dfea596",
    "trusted": true
   },
   "outputs": [
    {
     "data": {
      "text/plain": [
       "['apple_pie',\n",
       " 'baby_back_ribs',\n",
       " 'baklava',\n",
       " 'beef_carpaccio',\n",
       " 'beef_tartare',\n",
       " 'beet_salad',\n",
       " 'beignets',\n",
       " 'bibimbap',\n",
       " 'bread_pudding',\n",
       " 'breakfast_burrito']"
      ]
     },
     "execution_count": 11,
     "metadata": {},
     "output_type": "execute_result"
    }
   ],
   "source": [
    "# Get the class names\n",
    "class_names = ds_info.features[\"label\"].names\n",
    "class_names[:10]"
   ]
  },
  {
   "cell_type": "code",
   "execution_count": 12,
   "metadata": {
    "colab": {
     "base_uri": "https://localhost:8080/"
    },
    "execution": {
     "iopub.execute_input": "2025-01-14T06:43:44.584920Z",
     "iopub.status.busy": "2025-01-14T06:43:44.584600Z",
     "iopub.status.idle": "2025-01-14T06:43:44.595042Z",
     "shell.execute_reply": "2025-01-14T06:43:44.594302Z",
     "shell.execute_reply.started": "2025-01-14T06:43:44.584891Z"
    },
    "id": "nGMD0CfzLZIm",
    "outputId": "59602827-127f-4bcf-b4ca-e396c6abcd1b",
    "trusted": true
   },
   "outputs": [
    {
     "data": {
      "text/plain": [
       "<_TakeDataset element_spec=(TensorSpec(shape=(None, None, 3), dtype=tf.uint8, name=None), TensorSpec(shape=(), dtype=tf.int64, name=None))>"
      ]
     },
     "execution_count": 12,
     "metadata": {},
     "output_type": "execute_result"
    }
   ],
   "source": [
    "# Take one sample of the train data\n",
    "train_one_sample = train_data.take(1) # samples are in format (image_tensor, label)\n",
    "train_one_sample"
   ]
  },
  {
   "cell_type": "code",
   "execution_count": 13,
   "metadata": {
    "colab": {
     "base_uri": "https://localhost:8080/"
    },
    "execution": {
     "iopub.execute_input": "2025-01-14T06:43:45.787822Z",
     "iopub.status.busy": "2025-01-14T06:43:45.787507Z",
     "iopub.status.idle": "2025-01-14T06:43:45.992121Z",
     "shell.execute_reply": "2025-01-14T06:43:45.991288Z",
     "shell.execute_reply.started": "2025-01-14T06:43:45.787798Z"
    },
    "id": "53_y1-7FL9-e",
    "outputId": "b3aff225-5561-468e-8727-3ec2e9e711b8",
    "trusted": true
   },
   "outputs": [
    {
     "name": "stdout",
     "output_type": "stream",
     "text": [
      "\n",
      "  Image shape: (512, 512, 3)\n",
      "  Image datatype: <dtype: 'uint8'>\n",
      "  Target class from Food101 (tensor form): 64\n",
      "  Class name (str form): miso_soup\n",
      "  \n"
     ]
    }
   ],
   "source": [
    "# output info about our training sample\n",
    "for image, label in train_one_sample:\n",
    "    print(f\"\"\"\n",
    "  Image shape: {image.shape}\n",
    "  Image datatype: {image.dtype}\n",
    "  Target class from Food101 (tensor form): {label}\n",
    "  Class name (str form): {class_names[label.numpy()]}\n",
    "  \"\"\")"
   ]
  },
  {
   "cell_type": "code",
   "execution_count": 14,
   "metadata": {
    "colab": {
     "base_uri": "https://localhost:8080/"
    },
    "execution": {
     "iopub.execute_input": "2025-01-14T06:43:48.406720Z",
     "iopub.status.busy": "2025-01-14T06:43:48.406446Z",
     "iopub.status.idle": "2025-01-14T06:43:48.413212Z",
     "shell.execute_reply": "2025-01-14T06:43:48.412534Z",
     "shell.execute_reply.started": "2025-01-14T06:43:48.406700Z"
    },
    "id": "YSGyAhuOO9Iz",
    "outputId": "0e394ba5-6204-4358-c12e-ce01b0327d38",
    "trusted": true
   },
   "outputs": [
    {
     "data": {
      "text/plain": [
       "<tf.Tensor: shape=(512, 512, 3), dtype=uint8, numpy=\n",
       "array([[[ 43,  89, 125],\n",
       "        [ 52,  96, 131],\n",
       "        [ 85, 128, 162],\n",
       "        ...,\n",
       "        [251, 254, 223],\n",
       "        [250, 253, 222],\n",
       "        [250, 253, 222]],\n",
       "\n",
       "       [[ 42,  88, 124],\n",
       "        [ 53,  97, 132],\n",
       "        [ 92, 135, 169],\n",
       "        ...,\n",
       "        [251, 254, 223],\n",
       "        [250, 253, 222],\n",
       "        [250, 253, 222]],\n",
       "\n",
       "       [[ 45,  89, 124],\n",
       "        [ 52,  96, 131],\n",
       "        [ 92, 135, 169],\n",
       "        ...,\n",
       "        [251, 254, 223],\n",
       "        [250, 253, 222],\n",
       "        [250, 253, 222]],\n",
       "\n",
       "       ...,\n",
       "\n",
       "       [[ 91,  99,  86],\n",
       "        [ 89,  97,  84],\n",
       "        [ 88,  94,  82],\n",
       "        ...,\n",
       "        [ 37,  44,  50],\n",
       "        [ 34,  41,  47],\n",
       "        [ 31,  38,  44]],\n",
       "\n",
       "       [[ 91,  99,  86],\n",
       "        [ 90,  98,  85],\n",
       "        [ 88,  96,  83],\n",
       "        ...,\n",
       "        [ 38,  43,  47],\n",
       "        [ 35,  40,  44],\n",
       "        [ 33,  38,  42]],\n",
       "\n",
       "       [[ 93, 101,  88],\n",
       "        [ 93, 101,  88],\n",
       "        [ 89,  97,  84],\n",
       "        ...,\n",
       "        [ 37,  42,  46],\n",
       "        [ 35,  40,  44],\n",
       "        [ 35,  40,  44]]], dtype=uint8)>"
      ]
     },
     "execution_count": 14,
     "metadata": {},
     "output_type": "execute_result"
    }
   ],
   "source": [
    "# What does our image tensor from TFDS's Food101 look like?\n",
    "image"
   ]
  },
  {
   "cell_type": "code",
   "execution_count": 15,
   "metadata": {
    "colab": {
     "base_uri": "https://localhost:8080/"
    },
    "execution": {
     "iopub.execute_input": "2025-01-14T06:43:48.705532Z",
     "iopub.status.busy": "2025-01-14T06:43:48.705273Z",
     "iopub.status.idle": "2025-01-14T06:43:48.719547Z",
     "shell.execute_reply": "2025-01-14T06:43:48.718827Z",
     "shell.execute_reply.started": "2025-01-14T06:43:48.705509Z"
    },
    "id": "aF7BRnlmPbz2",
    "outputId": "31af53dd-0997-47ff-b21b-d60b8e161354",
    "trusted": true
   },
   "outputs": [
    {
     "data": {
      "text/plain": [
       "(<tf.Tensor: shape=(), dtype=uint8, numpy=0>,\n",
       " <tf.Tensor: shape=(), dtype=uint8, numpy=255>)"
      ]
     },
     "execution_count": 15,
     "metadata": {},
     "output_type": "execute_result"
    }
   ],
   "source": [
    "# What are the min and max values of our image tensor?\n",
    "import tensorflow as tf\n",
    "tf.reduce_min(image), tf.reduce_max(image)"
   ]
  },
  {
   "cell_type": "markdown",
   "metadata": {
    "id": "_QyfWmr3QHgD"
   },
   "source": [
    "### Plot an image from TensorFlow Datasets"
   ]
  },
  {
   "cell_type": "code",
   "execution_count": 16,
   "metadata": {
    "colab": {
     "base_uri": "https://localhost:8080/",
     "height": 446
    },
    "execution": {
     "iopub.execute_input": "2025-01-14T06:43:49.512778Z",
     "iopub.status.busy": "2025-01-14T06:43:49.512483Z",
     "iopub.status.idle": "2025-01-14T06:43:49.815822Z",
     "shell.execute_reply": "2025-01-14T06:43:49.814945Z",
     "shell.execute_reply.started": "2025-01-14T06:43:49.512731Z"
    },
    "id": "37_Sufx9PrAO",
    "outputId": "ee4a0b70-2e9a-408e-c786-f2053e6e5d11",
    "trusted": true
   },
   "outputs": [
    {
     "data": {
      "text/plain": [
       "(-0.5, 511.5, 511.5, -0.5)"
      ]
     },
     "execution_count": 16,
     "metadata": {},
     "output_type": "execute_result"
    },
    {
     "data": {
      "image/png": "[encoded data removed]",
      "text/plain": [
       "<Figure size 640x480 with 1 Axes>"
      ]
     },
     "metadata": {},
     "output_type": "display_data"
    }
   ],
   "source": [
    "# Plot an image tensor\n",
    "import matplotlib.pyplot as plt\n",
    "plt.imshow(image)\n",
    "plt.title(f\"Class: {class_names[label.numpy()]}\")\n",
    "plt.axis(False)"
   ]
  },
  {
   "cell_type": "markdown",
   "metadata": {
    "id": "pDLlRjJsYp9n"
   },
   "source": [
    "### Create preprocessing functions for our data"
   ]
  },
  {
   "cell_type": "code",
   "execution_count": 17,
   "metadata": {
    "execution": {
     "iopub.execute_input": "2025-01-14T06:43:55.509051Z",
     "iopub.status.busy": "2025-01-14T06:43:55.508723Z",
     "iopub.status.idle": "2025-01-14T06:43:55.513182Z",
     "shell.execute_reply": "2025-01-14T06:43:55.512267Z",
     "shell.execute_reply.started": "2025-01-14T06:43:55.509023Z"
    },
    "id": "55SUi9cHQma3",
    "trusted": true
   },
   "outputs": [],
   "source": [
    "# Make a function for preprocessing images\n",
    "def preprocess_img(image, label, img_shape=224):\n",
    "  \"\"\"\n",
    "  Converts image datatype from 'uint8' -> 'float32' and reshapes\n",
    "  image to [img_shape, img_shape, colour_channels]\n",
    "  \"\"\"\n",
    "  image = tf.image.resize(image, [img_shape, img_shape]) # reshape target image\n",
    "  # image = image/255. # scale image values (not required with EfficientNetBX models from tf.keras.applications)\n",
    "  return tf.cast(image, tf.float32), label"
   ]
  },
  {
   "cell_type": "code",
   "execution_count": 18,
   "metadata": {
    "colab": {
     "base_uri": "https://localhost:8080/"
    },
    "execution": {
     "iopub.execute_input": "2025-01-14T06:43:58.294912Z",
     "iopub.status.busy": "2025-01-14T06:43:58.294592Z",
     "iopub.status.idle": "2025-01-14T06:43:58.319951Z",
     "shell.execute_reply": "2025-01-14T06:43:58.319223Z",
     "shell.execute_reply.started": "2025-01-14T06:43:58.294886Z"
    },
    "id": "-Qq06xQsYyy4",
    "outputId": "8dcdda91-cb76-46cc-f6fe-fce181d6850b",
    "trusted": true
   },
   "outputs": [
    {
     "name": "stdout",
     "output_type": "stream",
     "text": [
      "Image before preprocessing:\n",
      " [[[ 43  89 125]\n",
      "  [ 52  96 131]\n",
      "  [ 85 128 162]\n",
      "  ...\n",
      "  [251 254 223]\n",
      "  [250 253 222]\n",
      "  [250 253 222]]\n",
      "\n",
      " [[ 42  88 124]\n",
      "  [ 53  97 132]\n",
      "  [ 92 135 169]\n",
      "  ...\n",
      "  [251 254 223]\n",
      "  [250 253 222]\n",
      "  [250 253 222]]]..., \n",
      "Shape: (512, 512, 3),\n",
      "Datatype: <dtype: 'uint8'>\n",
      "\n",
      "Image after preprocessing:\n",
      "[[[ 48.969387  93.68367  129.04082 ]\n",
      "  [124.78572  164.07144  195.28572 ]\n",
      "  [125.37245  158.94388  183.5153  ]\n",
      "  ...\n",
      "  [251.78574  254.78574  223.78574 ]\n",
      "  [251.       254.       223.      ]\n",
      "  [250.       253.       222.      ]]\n",
      "\n",
      " [[ 65.28572  108.688774 143.09183 ]\n",
      "  [129.93878  169.09184  200.17348 ]\n",
      "  [ 79.61224  115.04081  140.88266 ]\n",
      "  ...\n",
      "  [251.78574  254.78574  223.78574 ]\n",
      "  [251.       254.       223.      ]\n",
      "  [250.       253.       222.      ]]]...,\n",
      "Shape: (224, 224, 3),\n",
      "Datatype: <dtype: 'float32'>\n"
     ]
    }
   ],
   "source": [
    "# Preprocess a single sample image and check the outputs\n",
    "preprocessed_img = preprocess_img(image, label)[0]\n",
    "print(f\"Image before preprocessing:\\n {image[:2]}..., \\nShape: {image.shape},\\nDatatype: {image.dtype}\\n\")\n",
    "print(f\"Image after preprocessing:\\n{preprocessed_img[:2]}...,\\nShape: {preprocessed_img.shape},\\nDatatype: {preprocessed_img.dtype}\")"
   ]
  },
  {
   "cell_type": "markdown",
   "metadata": {
    "id": "wzeXHMYSfZa2"
   },
   "source": [
    "## Batch & prepare datasets\n",
    "\n",
    "We're now going to make our data input pipeline run really fast."
   ]
  },
  {
   "cell_type": "code",
   "execution_count": 19,
   "metadata": {
    "execution": {
     "iopub.execute_input": "2025-01-14T06:44:07.818088Z",
     "iopub.status.busy": "2025-01-14T06:44:07.817806Z",
     "iopub.status.idle": "2025-01-14T06:44:07.880992Z",
     "shell.execute_reply": "2025-01-14T06:44:07.880172Z",
     "shell.execute_reply.started": "2025-01-14T06:44:07.818069Z"
    },
    "id": "3neEvAgLfFJP",
    "trusted": true
   },
   "outputs": [],
   "source": [
    "# Map preprocessing function to training (and parallelize)\n",
    "train_data = train_data.map(map_func=preprocess_img, num_parallel_calls=tf.data.AUTOTUNE)\n",
    "# Shuffle train_data and turn it into batches and prefetch it (load it faster)\n",
    "train_data = train_data.shuffle(buffer_size=1000).batch(batch_size=32).prefetch(buffer_size=tf.data.AUTOTUNE)\n",
    "\n",
    "# Map preprocessing function to test data\n",
    "test_data = test_data.map(preprocess_img, num_parallel_calls=tf.data.AUTOTUNE).batch(32).prefetch(tf.data.AUTOTUNE)"
   ]
  },
  {
   "cell_type": "code",
   "execution_count": 20,
   "metadata": {
    "colab": {
     "base_uri": "https://localhost:8080/"
    },
    "execution": {
     "iopub.execute_input": "2025-01-14T06:44:10.275936Z",
     "iopub.status.busy": "2025-01-14T06:44:10.275595Z",
     "iopub.status.idle": "2025-01-14T06:44:10.281002Z",
     "shell.execute_reply": "2025-01-14T06:44:10.280256Z",
     "shell.execute_reply.started": "2025-01-14T06:44:10.275908Z"
    },
    "id": "08Yq9U4NhPtR",
    "outputId": "1a02f6b0-13b5-49a5-dd37-1ffdc2b4135b",
    "trusted": true
   },
   "outputs": [
    {
     "data": {
      "text/plain": [
       "(<_PrefetchDataset element_spec=(TensorSpec(shape=(None, 224, 224, 3), dtype=tf.float32, name=None), TensorSpec(shape=(None,), dtype=tf.int64, name=None))>,\n",
       " <_PrefetchDataset element_spec=(TensorSpec(shape=(None, 224, 224, 3), dtype=tf.float32, name=None), TensorSpec(shape=(None,), dtype=tf.int64, name=None))>)"
      ]
     },
     "execution_count": 20,
     "metadata": {},
     "output_type": "execute_result"
    }
   ],
   "source": [
    "train_data, test_data"
   ]
  },
  {
   "cell_type": "markdown",
   "metadata": {
    "id": "xIz_hj_-jWYc"
   },
   "source": [
    "## Create modelling callbacks\n",
    "\n",
    "We're going to create a couple of callbacks to help us while our model trains:\n",
    "\n",
    "* TensorBoard callback to log training results (so we can visualize them later if need be)\n",
    "\n",
    "* ModelCheckpoint callback to save our model's progress after feature extraction"
   ]
  },
  {
   "cell_type": "code",
   "execution_count": 21,
   "metadata": {
    "execution": {
     "iopub.execute_input": "2025-01-14T06:44:13.222023Z",
     "iopub.status.busy": "2025-01-14T06:44:13.221689Z",
     "iopub.status.idle": "2025-01-14T06:44:13.225636Z",
     "shell.execute_reply": "2025-01-14T06:44:13.224787Z",
     "shell.execute_reply.started": "2025-01-14T06:44:13.221999Z"
    },
    "id": "VpEwBT5ImfDl",
    "trusted": true
   },
   "outputs": [],
   "source": [
    "from helper_functions import create_tensorboard_callback"
   ]
  },
  {
   "cell_type": "code",
   "execution_count": 22,
   "metadata": {
    "execution": {
     "iopub.execute_input": "2025-01-14T06:44:27.369773Z",
     "iopub.status.busy": "2025-01-14T06:44:27.369459Z",
     "iopub.status.idle": "2025-01-14T06:44:27.395290Z",
     "shell.execute_reply": "2025-01-14T06:44:27.394677Z",
     "shell.execute_reply.started": "2025-01-14T06:44:27.369727Z"
    },
    "id": "L1n3NCKakb2C",
    "trusted": true
   },
   "outputs": [],
   "source": [
    "# Create checkpoint callback\n",
    "checkpoint_path = \"101_classes_100_percent_data_model_checkpoint.weights.h5\"\n",
    "model_checkpoint = tf.keras.callbacks.ModelCheckpoint(checkpoint_path,\n",
    "                                                         save_weights_only=True,\n",
    "                                                         monitor=\"val_accuracy\",\n",
    "                                                         save_best_only=True,\n",
    "                                                         verbose=0)"
   ]
  },
  {
   "cell_type": "markdown",
   "metadata": {
    "id": "Np_1gTXDnPr3"
   },
   "source": [
    "## Setup mixed precision training\n",
    "\n",
    "Mixed precision utilizes a combination of float32 and float16 data types to speed up model performance."
   ]
  },
  {
   "cell_type": "code",
   "execution_count": 23,
   "metadata": {
    "execution": {
     "iopub.execute_input": "2025-01-14T06:44:31.336084Z",
     "iopub.status.busy": "2025-01-14T06:44:31.335799Z",
     "iopub.status.idle": "2025-01-14T06:44:31.340895Z",
     "shell.execute_reply": "2025-01-14T06:44:31.339797Z",
     "shell.execute_reply.started": "2025-01-14T06:44:31.336062Z"
    },
    "id": "TJUvwqlvmVMk",
    "trusted": true
   },
   "outputs": [],
   "source": [
    "# Turn on mixed precision training\n",
    "from tensorflow.keras import mixed_precision\n",
    "mixed_precision.set_global_policy(\"mixed_float16\") # Set global data policy to mixed precision"
   ]
  },
  {
   "cell_type": "code",
   "execution_count": 24,
   "metadata": {
    "colab": {
     "base_uri": "https://localhost:8080/"
    },
    "execution": {
     "iopub.execute_input": "2025-01-14T06:44:38.618833Z",
     "iopub.status.busy": "2025-01-14T06:44:38.618480Z",
     "iopub.status.idle": "2025-01-14T06:44:38.623663Z",
     "shell.execute_reply": "2025-01-14T06:44:38.622849Z",
     "shell.execute_reply.started": "2025-01-14T06:44:38.618804Z"
    },
    "id": "c9WAKxbHoXMO",
    "outputId": "68c0cf37-5bc5-4a7e-9dab-41952d3d6dda",
    "trusted": true
   },
   "outputs": [
    {
     "data": {
      "text/plain": [
       "<DTypePolicy \"mixed_float16\">"
      ]
     },
     "execution_count": 24,
     "metadata": {},
     "output_type": "execute_result"
    }
   ],
   "source": [
    "mixed_precision.global_policy()"
   ]
  },
  {
   "cell_type": "markdown",
   "metadata": {
    "id": "9gq0Z6p5pw6c"
   },
   "source": [
    "## Build feature extraction model"
   ]
  },
  {
   "cell_type": "code",
   "execution_count": 248,
   "metadata": {
    "execution": {
     "iopub.execute_input": "2025-01-14T12:14:17.478237Z",
     "iopub.status.busy": "2025-01-14T12:14:17.477871Z",
     "iopub.status.idle": "2025-01-14T12:14:18.440414Z",
     "shell.execute_reply": "2025-01-14T12:14:18.439733Z",
     "shell.execute_reply.started": "2025-01-14T12:14:17.478212Z"
    },
    "id": "j9qoO_YHo4Sc",
    "trusted": true
   },
   "outputs": [],
   "source": [
    "from tensorflow.keras import layers\n",
    "\n",
    "# Create base model\n",
    "input_shape = (224, 224, 3)\n",
    "base_model = tf.keras.applications.EfficientNetB0(include_top=False)\n",
    "base_model.trainable = False\n",
    "\n",
    "# Create functional model\n",
    "inputs = layers.Input(shape=input_shape, name=\"input_layer\")\n",
    "# Note: EfficientNetBX models have rescaling built-in but if your model doesn't you can have a layer like below\n",
    "# x = preprocessing.Rescaling(1./255)(x)\n",
    "x = base_model(inputs, training=False) # makes sure layers which should be in inference mode only stay like that\n",
    "x = layers.GlobalAveragePooling2D()(x)\n",
    "x = layers.Dense(len(class_names))(x)\n",
    "outputs = layers.Activation(\"softmax\", dtype=tf.float32, name=\"softmax_float32\")(x)\n",
    "model = tf.keras.Model(inputs, outputs)\n",
    "\n",
    "# Compile the model\n",
    "model.compile(loss=\"sparse_categorical_crossentropy\",\n",
    "              optimizer=tf.keras.optimizers.Adam(),\n",
    "              metrics=[\"accuracy\"])"
   ]
  },
  {
   "cell_type": "code",
   "execution_count": 249,
   "metadata": {
    "colab": {
     "base_uri": "https://localhost:8080/",
     "height": 347
    },
    "execution": {
     "iopub.execute_input": "2025-01-14T12:14:18.441692Z",
     "iopub.status.busy": "2025-01-14T12:14:18.441476Z",
     "iopub.status.idle": "2025-01-14T12:14:18.461959Z",
     "shell.execute_reply": "2025-01-14T12:14:18.461114Z",
     "shell.execute_reply.started": "2025-01-14T12:14:18.441674Z"
    },
    "id": "PISlC7BRp3-Z",
    "outputId": "1cf5c1f8-e792-49a1-d93b-894937a6cbe8",
    "trusted": true
   },
   "outputs": [
    {
     "data": {
      "text/html": [
       "<pre style=\"white-space:pre;overflow-x:auto;line-height:normal;font-family:Menlo,'DejaVu Sans Mono',consolas,'Courier New',monospace\"><span style=\"font-weight: bold\">Model: \"functional_8\"</span>\n",
       "</pre>\n"
      ],
      "text/plain": [
       "\u001b[1mModel: \"functional_8\"\u001b[0m\n"
      ]
     },
     "metadata": {},
     "output_type": "display_data"
    },
    {
     "data": {
      "text/html": [
       "<pre style=\"white-space:pre;overflow-x:auto;line-height:normal;font-family:Menlo,'DejaVu Sans Mono',consolas,'Courier New',monospace\">┏━━━━━━━━━━━━━━━━━━━━━━━━━━━━━━━━━━━━━━┳━━━━━━━━━━━━━━━━━━━━━━━━━━━━━┳━━━━━━━━━━━━━━━━━┓\n",
       "┃<span style=\"font-weight: bold\"> Layer (type)                         </span>┃<span style=\"font-weight: bold\"> Output Shape                </span>┃<span style=\"font-weight: bold\">         Param # </span>┃\n",
       "┡━━━━━━━━━━━━━━━━━━━━━━━━━━━━━━━━━━━━━━╇━━━━━━━━━━━━━━━━━━━━━━━━━━━━━╇━━━━━━━━━━━━━━━━━┩\n",
       "│ input_layer (<span style=\"color: #0087ff; text-decoration-color: #0087ff\">InputLayer</span>)             │ (<span style=\"color: #00d7ff; text-decoration-color: #00d7ff\">None</span>, <span style=\"color: #00af00; text-decoration-color: #00af00\">224</span>, <span style=\"color: #00af00; text-decoration-color: #00af00\">224</span>, <span style=\"color: #00af00; text-decoration-color: #00af00\">3</span>)         │               <span style=\"color: #00af00; text-decoration-color: #00af00\">0</span> │\n",
       "├──────────────────────────────────────┼─────────────────────────────┼─────────────────┤\n",
       "│ efficientnetb0 (<span style=\"color: #0087ff; text-decoration-color: #0087ff\">Functional</span>)          │ (<span style=\"color: #00d7ff; text-decoration-color: #00d7ff\">None</span>, <span style=\"color: #00af00; text-decoration-color: #00af00\">7</span>, <span style=\"color: #00af00; text-decoration-color: #00af00\">7</span>, <span style=\"color: #00af00; text-decoration-color: #00af00\">1280</span>)          │       <span style=\"color: #00af00; text-decoration-color: #00af00\">4,049,571</span> │\n",
       "├──────────────────────────────────────┼─────────────────────────────┼─────────────────┤\n",
       "│ global_average_pooling2d_8           │ (<span style=\"color: #00d7ff; text-decoration-color: #00d7ff\">None</span>, <span style=\"color: #00af00; text-decoration-color: #00af00\">1280</span>)                │               <span style=\"color: #00af00; text-decoration-color: #00af00\">0</span> │\n",
       "│ (<span style=\"color: #0087ff; text-decoration-color: #0087ff\">GlobalAveragePooling2D</span>)             │                             │                 │\n",
       "├──────────────────────────────────────┼─────────────────────────────┼─────────────────┤\n",
       "│ dense_8 (<span style=\"color: #0087ff; text-decoration-color: #0087ff\">Dense</span>)                      │ (<span style=\"color: #00d7ff; text-decoration-color: #00d7ff\">None</span>, <span style=\"color: #00af00; text-decoration-color: #00af00\">101</span>)                 │         <span style=\"color: #00af00; text-decoration-color: #00af00\">129,381</span> │\n",
       "├──────────────────────────────────────┼─────────────────────────────┼─────────────────┤\n",
       "│ softmax_float32 (<span style=\"color: #0087ff; text-decoration-color: #0087ff\">Activation</span>)         │ (<span style=\"color: #00d7ff; text-decoration-color: #00d7ff\">None</span>, <span style=\"color: #00af00; text-decoration-color: #00af00\">101</span>)                 │               <span style=\"color: #00af00; text-decoration-color: #00af00\">0</span> │\n",
       "└──────────────────────────────────────┴─────────────────────────────┴─────────────────┘\n",
       "</pre>\n"
      ],
      "text/plain": [
       "┏━━━━━━━━━━━━━━━━━━━━━━━━━━━━━━━━━━━━━━┳━━━━━━━━━━━━━━━━━━━━━━━━━━━━━┳━━━━━━━━━━━━━━━━━┓\n",
       "┃\u001b[1m \u001b[0m\u001b[1mLayer (type)                        \u001b[0m\u001b[1m \u001b[0m┃\u001b[1m \u001b[0m\u001b[1mOutput Shape               \u001b[0m\u001b[1m \u001b[0m┃\u001b[1m \u001b[0m\u001b[1m        Param #\u001b[0m\u001b[1m \u001b[0m┃\n",
       "┡━━━━━━━━━━━━━━━━━━━━━━━━━━━━━━━━━━━━━━╇━━━━━━━━━━━━━━━━━━━━━━━━━━━━━╇━━━━━━━━━━━━━━━━━┩\n",
       "│ input_layer (\u001b[38;5;33mInputLayer\u001b[0m)             │ (\u001b[38;5;45mNone\u001b[0m, \u001b[38;5;34m224\u001b[0m, \u001b[38;5;34m224\u001b[0m, \u001b[38;5;34m3\u001b[0m)         │               \u001b[38;5;34m0\u001b[0m │\n",
       "├──────────────────────────────────────┼─────────────────────────────┼─────────────────┤\n",
       "│ efficientnetb0 (\u001b[38;5;33mFunctional\u001b[0m)          │ (\u001b[38;5;45mNone\u001b[0m, \u001b[38;5;34m7\u001b[0m, \u001b[38;5;34m7\u001b[0m, \u001b[38;5;34m1280\u001b[0m)          │       \u001b[38;5;34m4,049,571\u001b[0m │\n",
       "├──────────────────────────────────────┼─────────────────────────────┼─────────────────┤\n",
       "│ global_average_pooling2d_8           │ (\u001b[38;5;45mNone\u001b[0m, \u001b[38;5;34m1280\u001b[0m)                │               \u001b[38;5;34m0\u001b[0m │\n",
       "│ (\u001b[38;5;33mGlobalAveragePooling2D\u001b[0m)             │                             │                 │\n",
       "├──────────────────────────────────────┼─────────────────────────────┼─────────────────┤\n",
       "│ dense_8 (\u001b[38;5;33mDense\u001b[0m)                      │ (\u001b[38;5;45mNone\u001b[0m, \u001b[38;5;34m101\u001b[0m)                 │         \u001b[38;5;34m129,381\u001b[0m │\n",
       "├──────────────────────────────────────┼─────────────────────────────┼─────────────────┤\n",
       "│ softmax_float32 (\u001b[38;5;33mActivation\u001b[0m)         │ (\u001b[38;5;45mNone\u001b[0m, \u001b[38;5;34m101\u001b[0m)                 │               \u001b[38;5;34m0\u001b[0m │\n",
       "└──────────────────────────────────────┴─────────────────────────────┴─────────────────┘\n"
      ]
     },
     "metadata": {},
     "output_type": "display_data"
    },
    {
     "data": {
      "text/html": [
       "<pre style=\"white-space:pre;overflow-x:auto;line-height:normal;font-family:Menlo,'DejaVu Sans Mono',consolas,'Courier New',monospace\"><span style=\"font-weight: bold\"> Total params: </span><span style=\"color: #00af00; text-decoration-color: #00af00\">4,178,952</span> (15.94 MB)\n",
       "</pre>\n"
      ],
      "text/plain": [
       "\u001b[1m Total params: \u001b[0m\u001b[38;5;34m4,178,952\u001b[0m (15.94 MB)\n"
      ]
     },
     "metadata": {},
     "output_type": "display_data"
    },
    {
     "data": {
      "text/html": [
       "<pre style=\"white-space:pre;overflow-x:auto;line-height:normal;font-family:Menlo,'DejaVu Sans Mono',consolas,'Courier New',monospace\"><span style=\"font-weight: bold\"> Trainable params: </span><span style=\"color: #00af00; text-decoration-color: #00af00\">129,381</span> (505.39 KB)\n",
       "</pre>\n"
      ],
      "text/plain": [
       "\u001b[1m Trainable params: \u001b[0m\u001b[38;5;34m129,381\u001b[0m (505.39 KB)\n"
      ]
     },
     "metadata": {},
     "output_type": "display_data"
    },
    {
     "data": {
      "text/html": [
       "<pre style=\"white-space:pre;overflow-x:auto;line-height:normal;font-family:Menlo,'DejaVu Sans Mono',consolas,'Courier New',monospace\"><span style=\"font-weight: bold\"> Non-trainable params: </span><span style=\"color: #00af00; text-decoration-color: #00af00\">4,049,571</span> (15.45 MB)\n",
       "</pre>\n"
      ],
      "text/plain": [
       "\u001b[1m Non-trainable params: \u001b[0m\u001b[38;5;34m4,049,571\u001b[0m (15.45 MB)\n"
      ]
     },
     "metadata": {},
     "output_type": "display_data"
    }
   ],
   "source": [
    "model.summary()"
   ]
  },
  {
   "cell_type": "markdown",
   "metadata": {
    "id": "VmMI_PCuqKXM"
   },
   "source": [
    "## Checking layer dtype policies (are we using mixed precision?)"
   ]
  },
  {
   "cell_type": "code",
   "execution_count": 250,
   "metadata": {
    "colab": {
     "base_uri": "https://localhost:8080/"
    },
    "execution": {
     "iopub.execute_input": "2025-01-14T12:14:20.010400Z",
     "iopub.status.busy": "2025-01-14T12:14:20.010124Z",
     "iopub.status.idle": "2025-01-14T12:14:20.017210Z",
     "shell.execute_reply": "2025-01-14T12:14:20.016452Z",
     "shell.execute_reply.started": "2025-01-14T12:14:20.010379Z"
    },
    "id": "oRMdNn0DqF0B",
    "outputId": "14ddd9af-9499-42c3-d4a5-b7d42b0fd9b4",
    "trusted": true
   },
   "outputs": [
    {
     "name": "stdout",
     "output_type": "stream",
     "text": [
      "input_layer True float32 <DTypePolicy \"mixed_float16\">\n",
      "efficientnetb0 False float32 <DTypePolicy \"mixed_float16\">\n",
      "global_average_pooling2d_8 True float32 <DTypePolicy \"mixed_float16\">\n",
      "dense_8 True float32 <DTypePolicy \"mixed_float16\">\n",
      "softmax_float32 True float32 <DTypePolicy \"float32\">\n"
     ]
    }
   ],
   "source": [
    "# Check the dtype_policy attributes of layers in our model\n",
    "for layer in model.layers:\n",
    "  print(layer.name, layer.trainable, layer.dtype, layer.dtype_policy)"
   ]
  },
  {
   "cell_type": "code",
   "execution_count": 251,
   "metadata": {
    "colab": {
     "base_uri": "https://localhost:8080/"
    },
    "execution": {
     "iopub.execute_input": "2025-01-14T12:14:20.345383Z",
     "iopub.status.busy": "2025-01-14T12:14:20.345119Z",
     "iopub.status.idle": "2025-01-14T12:14:20.362790Z",
     "shell.execute_reply": "2025-01-14T12:14:20.361910Z",
     "shell.execute_reply.started": "2025-01-14T12:14:20.345363Z"
    },
    "id": "FcMAsSBUrMaH",
    "outputId": "c76f0e88-e1b6-4384-ce7d-f51323bdb274",
    "trusted": true
   },
   "outputs": [
    {
     "name": "stdout",
     "output_type": "stream",
     "text": [
      "input_layer_8 False float32 <DTypePolicy \"mixed_float16\">\n",
      "rescaling_16 False float32 <DTypePolicy \"mixed_float16\">\n",
      "normalization_8 False float32 <DTypePolicy \"mixed_float16\">\n",
      "rescaling_17 False float32 <DTypePolicy \"mixed_float16\">\n",
      "stem_conv_pad False float32 <DTypePolicy \"mixed_float16\">\n",
      "stem_conv False float32 <DTypePolicy \"mixed_float16\">\n",
      "stem_bn False float32 <DTypePolicy \"mixed_float16\">\n",
      "stem_activation False float32 <DTypePolicy \"mixed_float16\">\n",
      "block1a_dwconv False float32 <DTypePolicy \"mixed_float16\">\n",
      "block1a_bn False float32 <DTypePolicy \"mixed_float16\">\n",
      "block1a_activation False float32 <DTypePolicy \"mixed_float16\">\n",
      "block1a_se_squeeze False float32 <DTypePolicy \"mixed_float16\">\n",
      "block1a_se_reshape False float32 <DTypePolicy \"mixed_float16\">\n",
      "block1a_se_reduce False float32 <DTypePolicy \"mixed_float16\">\n",
      "block1a_se_expand False float32 <DTypePolicy \"mixed_float16\">\n",
      "block1a_se_excite False float32 <DTypePolicy \"mixed_float16\">\n",
      "block1a_project_conv False float32 <DTypePolicy \"mixed_float16\">\n",
      "block1a_project_bn False float32 <DTypePolicy \"mixed_float16\">\n",
      "block2a_expand_conv False float32 <DTypePolicy \"mixed_float16\">\n",
      "block2a_expand_bn False float32 <DTypePolicy \"mixed_float16\">\n"
     ]
    }
   ],
   "source": [
    "# Check the dtype_policy attributes of layers in the base model\n",
    "for layer in model.layers[1].layers[:20]: # check the layers of the base model (layer at index 1 of `model`)\n",
    "  print(layer.name, layer.trainable, layer.dtype, layer.dtype_policy)"
   ]
  },
  {
   "cell_type": "code",
   "execution_count": 252,
   "metadata": {
    "colab": {
     "base_uri": "https://localhost:8080/"
    },
    "execution": {
     "iopub.execute_input": "2025-01-14T12:14:22.034322Z",
     "iopub.status.busy": "2025-01-14T12:14:22.034040Z",
     "iopub.status.idle": "2025-01-14T12:14:22.039181Z",
     "shell.execute_reply": "2025-01-14T12:14:22.038498Z",
     "shell.execute_reply.started": "2025-01-14T12:14:22.034299Z"
    },
    "id": "8waxtAy8s3os",
    "outputId": "38009652-7aff-4f57-f78f-339587814dca",
    "trusted": true
   },
   "outputs": [
    {
     "data": {
      "text/plain": [
       "<DTypePolicy \"mixed_float16\">"
      ]
     },
     "execution_count": 252,
     "metadata": {},
     "output_type": "execute_result"
    }
   ],
   "source": [
    "mixed_precision.global_policy()"
   ]
  },
  {
   "cell_type": "markdown",
   "metadata": {
    "id": "7TQ0lfZUtXQA"
   },
   "source": [
    "## Fit the feature extraction model\n",
    "\n",
    "If our goal is to fine-tune a pretrained model, the general order of doing things is:\n",
    "\n",
    "1. Build a feature extraction model (train a couple output layers with base layers frozen)\n",
    "\n",
    "2. Fine-tune some of the frozen layers"
   ]
  },
  {
   "cell_type": "code",
   "execution_count": 253,
   "metadata": {
    "colab": {
     "base_uri": "https://localhost:8080/"
    },
    "execution": {
     "iopub.execute_input": "2025-01-14T12:14:28.389810Z",
     "iopub.status.busy": "2025-01-14T12:14:28.389475Z",
     "iopub.status.idle": "2025-01-14T12:17:28.198045Z",
     "shell.execute_reply": "2025-01-14T12:17:28.197296Z",
     "shell.execute_reply.started": "2025-01-14T12:14:28.389780Z"
    },
    "id": "IsA4493GtQtk",
    "outputId": "417eabbc-0142-428e-f55e-d14cc288e5ed",
    "trusted": true
   },
   "outputs": [
    {
     "name": "stdout",
     "output_type": "stream",
     "text": [
      "Saving TensorBoard log files to: training_logs/efficientnetb0_101_classes_all_data_feature_extract/20250114-121428\n",
      "Epoch 1/3\n",
      "\u001b[1m2368/2368\u001b[0m \u001b[32m━━━━━━━━━━━━━━━━━━━━\u001b[0m\u001b[37m\u001b[0m \u001b[1m101s\u001b[0m 35ms/step - accuracy: 0.4355 - loss: 2.4559 - val_accuracy: 0.6610 - val_loss: 1.2985\n",
      "Epoch 2/3\n",
      "\u001b[1m2368/2368\u001b[0m \u001b[32m━━━━━━━━━━━━━━━━━━━━\u001b[0m\u001b[37m\u001b[0m \u001b[1m3s\u001b[0m 1ms/step - accuracy: 0.0000e+00 - loss: 0.0000e+00 - val_accuracy: 0.6525 - val_loss: 1.3105\n",
      "Epoch 3/3\n",
      "\u001b[1m2368/2368\u001b[0m \u001b[32m━━━━━━━━━━━━━━━━━━━━\u001b[0m\u001b[37m\u001b[0m \u001b[1m76s\u001b[0m 32ms/step - accuracy: 0.6307 - loss: 1.4485 - val_accuracy: 0.6817 - val_loss: 1.1852\n"
     ]
    }
   ],
   "source": [
    "# Fit the feature extraction model with callbacks\n",
    "history_101_food_classes_feature_extract = model.fit(train_data,\n",
    "                                                     epochs=3,\n",
    "                                                     steps_per_epoch=(len(train_data)),\n",
    "                                                     validation_data=test_data,\n",
    "                                                     validation_steps=int(0.15 * len(test_data)),\n",
    "                                                     callbacks=[create_tensorboard_callback(dir_name=\"training_logs\",\n",
    "                                                                                            experiment_name=\"efficientnetb0_101_classes_all_data_feature_extract\"),\n",
    "                                                                model_checkpoint])"
   ]
  },
  {
   "cell_type": "code",
   "execution_count": 254,
   "metadata": {
    "colab": {
     "base_uri": "https://localhost:8080/"
    },
    "execution": {
     "iopub.execute_input": "2025-01-14T12:17:28.199741Z",
     "iopub.status.busy": "2025-01-14T12:17:28.199432Z",
     "iopub.status.idle": "2025-01-14T12:17:51.212879Z",
     "shell.execute_reply": "2025-01-14T12:17:51.212124Z",
     "shell.execute_reply.started": "2025-01-14T12:17:28.199719Z"
    },
    "id": "VKXk8ogdtq-_",
    "outputId": "385a1643-dd6a-4ad8-a576-86ad7160a357",
    "trusted": true
   },
   "outputs": [
    {
     "name": "stdout",
     "output_type": "stream",
     "text": [
      "\u001b[1m790/790\u001b[0m \u001b[32m━━━━━━━━━━━━━━━━━━━━\u001b[0m\u001b[37m\u001b[0m \u001b[1m23s\u001b[0m 29ms/step - accuracy: 0.6796 - loss: 1.1889\n"
     ]
    },
    {
     "data": {
      "text/plain": [
       "[1.184460163116455, 0.6848316788673401]"
      ]
     },
     "execution_count": 254,
     "metadata": {},
     "output_type": "execute_result"
    }
   ],
   "source": [
    "# Evaluate model on whole test dataset\n",
    "results_feature_extract_model = model.evaluate(test_data)\n",
    "results_feature_extract_model"
   ]
  },
  {
   "cell_type": "markdown",
   "metadata": {},
   "source": [
    "## Save the whole model to file"
   ]
  },
  {
   "cell_type": "code",
   "execution_count": 53,
   "metadata": {
    "execution": {
     "iopub.execute_input": "2025-01-14T07:51:39.323168Z",
     "iopub.status.busy": "2025-01-14T07:51:39.322943Z",
     "iopub.status.idle": "2025-01-14T07:51:39.671474Z",
     "shell.execute_reply": "2025-01-14T07:51:39.670409Z",
     "shell.execute_reply.started": "2025-01-14T07:51:39.323148Z"
    },
    "trusted": true
   },
   "outputs": [
    {
     "name": "stdout",
     "output_type": "stream",
     "text": [
      "mkdir: cannot create directory ‘models’: File exists\n"
     ]
    }
   ],
   "source": [
    "!mkdir \"models\""
   ]
  },
  {
   "cell_type": "code",
   "execution_count": 255,
   "metadata": {
    "execution": {
     "iopub.execute_input": "2025-01-14T12:17:51.214562Z",
     "iopub.status.busy": "2025-01-14T12:17:51.214295Z",
     "iopub.status.idle": "2025-01-14T12:17:51.701062Z",
     "shell.execute_reply": "2025-01-14T12:17:51.700304Z",
     "shell.execute_reply.started": "2025-01-14T12:17:51.214539Z"
    },
    "trusted": true
   },
   "outputs": [],
   "source": [
    "model.save(\"models/101_food_classes_100_percent_saved_big_dog_model.keras\")"
   ]
  },
  {
   "cell_type": "code",
   "execution_count": 256,
   "metadata": {
    "execution": {
     "iopub.execute_input": "2025-01-14T12:17:51.702368Z",
     "iopub.status.busy": "2025-01-14T12:17:51.702137Z",
     "iopub.status.idle": "2025-01-14T12:17:52.842424Z",
     "shell.execute_reply": "2025-01-14T12:17:52.841483Z",
     "shell.execute_reply.started": "2025-01-14T12:17:51.702349Z"
    },
    "trusted": true
   },
   "outputs": [],
   "source": [
    "# Load model previously saved above\n",
    "loaded_model = tf.keras.models.load_model(\"models/101_food_classes_100_percent_saved_big_dog_model.keras\")"
   ]
  },
  {
   "cell_type": "code",
   "execution_count": 257,
   "metadata": {
    "execution": {
     "iopub.execute_input": "2025-01-14T12:17:52.843578Z",
     "iopub.status.busy": "2025-01-14T12:17:52.843359Z",
     "iopub.status.idle": "2025-01-14T12:17:52.860032Z",
     "shell.execute_reply": "2025-01-14T12:17:52.858635Z",
     "shell.execute_reply.started": "2025-01-14T12:17:52.843560Z"
    },
    "trusted": true
   },
   "outputs": [
    {
     "name": "stdout",
     "output_type": "stream",
     "text": [
      "input_layer_8 True float32 <DTypePolicy \"mixed_float16\">\n",
      "rescaling_16 False float32 <DTypePolicy \"mixed_float16\">\n",
      "normalization_8 False float32 <DTypePolicy \"mixed_float16\">\n",
      "rescaling_17 False float32 <DTypePolicy \"mixed_float16\">\n",
      "stem_conv_pad False float32 <DTypePolicy \"mixed_float16\">\n",
      "stem_conv False float32 <DTypePolicy \"mixed_float16\">\n",
      "stem_bn False float32 <DTypePolicy \"mixed_float16\">\n",
      "stem_activation False float32 <DTypePolicy \"mixed_float16\">\n",
      "block1a_dwconv False float32 <DTypePolicy \"mixed_float16\">\n",
      "block1a_bn False float32 <DTypePolicy \"mixed_float16\">\n",
      "block1a_activation False float32 <DTypePolicy \"mixed_float16\">\n",
      "block1a_se_squeeze False float32 <DTypePolicy \"mixed_float16\">\n",
      "block1a_se_reshape False float32 <DTypePolicy \"mixed_float16\">\n",
      "block1a_se_reduce False float32 <DTypePolicy \"mixed_float16\">\n",
      "block1a_se_expand False float32 <DTypePolicy \"mixed_float16\">\n",
      "block1a_se_excite False float32 <DTypePolicy \"mixed_float16\">\n",
      "block1a_project_conv False float32 <DTypePolicy \"mixed_float16\">\n",
      "block1a_project_bn False float32 <DTypePolicy \"mixed_float16\">\n",
      "block2a_expand_conv False float32 <DTypePolicy \"mixed_float16\">\n",
      "block2a_expand_bn False float32 <DTypePolicy \"mixed_float16\">\n"
     ]
    }
   ],
   "source": [
    "# Check the layers in the base model and see what dtype policy they're using\n",
    "for layer in loaded_model.layers[1].layers[:20]: # check the layers of the base model (layer at index 1 of `model`)\n",
    "  print(layer.name, layer.trainable, layer.dtype, layer.dtype_policy)"
   ]
  },
  {
   "cell_type": "code",
   "execution_count": 258,
   "metadata": {
    "execution": {
     "iopub.execute_input": "2025-01-14T12:17:52.860915Z",
     "iopub.status.busy": "2025-01-14T12:17:52.860686Z",
     "iopub.status.idle": "2025-01-14T12:18:21.817026Z",
     "shell.execute_reply": "2025-01-14T12:18:21.816272Z",
     "shell.execute_reply.started": "2025-01-14T12:17:52.860896Z"
    },
    "trusted": true
   },
   "outputs": [
    {
     "name": "stdout",
     "output_type": "stream",
     "text": [
      "\u001b[1m790/790\u001b[0m \u001b[32m━━━━━━━━━━━━━━━━━━━━\u001b[0m\u001b[37m\u001b[0m \u001b[1m29s\u001b[0m 29ms/step - accuracy: 0.6808 - loss: 1.1811\n"
     ]
    },
    {
     "data": {
      "text/plain": [
       "[1.176939606666565, 0.6837623715400696]"
      ]
     },
     "execution_count": 258,
     "metadata": {},
     "output_type": "execute_result"
    }
   ],
   "source": [
    "# Evaluate loaded model and compare performance to pre-saved model\n",
    "loaded_model_results = loaded_model.evaluate(test_data)\n",
    "loaded_model_results"
   ]
  },
  {
   "cell_type": "code",
   "execution_count": 259,
   "metadata": {
    "execution": {
     "iopub.execute_input": "2025-01-14T12:18:21.818011Z",
     "iopub.status.busy": "2025-01-14T12:18:21.817786Z",
     "iopub.status.idle": "2025-01-14T12:18:21.822914Z",
     "shell.execute_reply": "2025-01-14T12:18:21.822202Z",
     "shell.execute_reply.started": "2025-01-14T12:18:21.817991Z"
    },
    "trusted": true
   },
   "outputs": [
    {
     "data": {
      "text/plain": [
       "[1.184460163116455, 0.6848316788673401]"
      ]
     },
     "execution_count": 259,
     "metadata": {},
     "output_type": "execute_result"
    }
   ],
   "source": [
    "results_feature_extract_model"
   ]
  },
  {
   "cell_type": "markdown",
   "metadata": {},
   "source": [
    "## Preparing our model's layers for fine-tuning"
   ]
  },
  {
   "cell_type": "code",
   "execution_count": 260,
   "metadata": {
    "execution": {
     "iopub.execute_input": "2025-01-14T12:18:21.825197Z",
     "iopub.status.busy": "2025-01-14T12:18:21.824956Z",
     "iopub.status.idle": "2025-01-14T12:18:21.859060Z",
     "shell.execute_reply": "2025-01-14T12:18:21.857804Z",
     "shell.execute_reply.started": "2025-01-14T12:18:21.825174Z"
    },
    "trusted": true
   },
   "outputs": [
    {
     "data": {
      "text/html": [
       "<pre style=\"white-space:pre;overflow-x:auto;line-height:normal;font-family:Menlo,'DejaVu Sans Mono',consolas,'Courier New',monospace\"><span style=\"font-weight: bold\">Model: \"functional_8\"</span>\n",
       "</pre>\n"
      ],
      "text/plain": [
       "\u001b[1mModel: \"functional_8\"\u001b[0m\n"
      ]
     },
     "metadata": {},
     "output_type": "display_data"
    },
    {
     "data": {
      "text/html": [
       "<pre style=\"white-space:pre;overflow-x:auto;line-height:normal;font-family:Menlo,'DejaVu Sans Mono',consolas,'Courier New',monospace\">┏━━━━━━━━━━━━━━━━━━━━━━━━━━━━━━━━━━━━━━┳━━━━━━━━━━━━━━━━━━━━━━━━━━━━━┳━━━━━━━━━━━━━━━━━┓\n",
       "┃<span style=\"font-weight: bold\"> Layer (type)                         </span>┃<span style=\"font-weight: bold\"> Output Shape                </span>┃<span style=\"font-weight: bold\">         Param # </span>┃\n",
       "┡━━━━━━━━━━━━━━━━━━━━━━━━━━━━━━━━━━━━━━╇━━━━━━━━━━━━━━━━━━━━━━━━━━━━━╇━━━━━━━━━━━━━━━━━┩\n",
       "│ input_layer (<span style=\"color: #0087ff; text-decoration-color: #0087ff\">InputLayer</span>)             │ (<span style=\"color: #00d7ff; text-decoration-color: #00d7ff\">None</span>, <span style=\"color: #00af00; text-decoration-color: #00af00\">224</span>, <span style=\"color: #00af00; text-decoration-color: #00af00\">224</span>, <span style=\"color: #00af00; text-decoration-color: #00af00\">3</span>)         │               <span style=\"color: #00af00; text-decoration-color: #00af00\">0</span> │\n",
       "├──────────────────────────────────────┼─────────────────────────────┼─────────────────┤\n",
       "│ efficientnetb0 (<span style=\"color: #0087ff; text-decoration-color: #0087ff\">Functional</span>)          │ (<span style=\"color: #00d7ff; text-decoration-color: #00d7ff\">None</span>, <span style=\"color: #00af00; text-decoration-color: #00af00\">7</span>, <span style=\"color: #00af00; text-decoration-color: #00af00\">7</span>, <span style=\"color: #00af00; text-decoration-color: #00af00\">1280</span>)          │       <span style=\"color: #00af00; text-decoration-color: #00af00\">4,049,571</span> │\n",
       "├──────────────────────────────────────┼─────────────────────────────┼─────────────────┤\n",
       "│ global_average_pooling2d_8           │ (<span style=\"color: #00d7ff; text-decoration-color: #00d7ff\">None</span>, <span style=\"color: #00af00; text-decoration-color: #00af00\">1280</span>)                │               <span style=\"color: #00af00; text-decoration-color: #00af00\">0</span> │\n",
       "│ (<span style=\"color: #0087ff; text-decoration-color: #0087ff\">GlobalAveragePooling2D</span>)             │                             │                 │\n",
       "├──────────────────────────────────────┼─────────────────────────────┼─────────────────┤\n",
       "│ dense_8 (<span style=\"color: #0087ff; text-decoration-color: #0087ff\">Dense</span>)                      │ (<span style=\"color: #00d7ff; text-decoration-color: #00d7ff\">None</span>, <span style=\"color: #00af00; text-decoration-color: #00af00\">101</span>)                 │         <span style=\"color: #00af00; text-decoration-color: #00af00\">129,381</span> │\n",
       "├──────────────────────────────────────┼─────────────────────────────┼─────────────────┤\n",
       "│ softmax_float32 (<span style=\"color: #0087ff; text-decoration-color: #0087ff\">Activation</span>)         │ (<span style=\"color: #00d7ff; text-decoration-color: #00d7ff\">None</span>, <span style=\"color: #00af00; text-decoration-color: #00af00\">101</span>)                 │               <span style=\"color: #00af00; text-decoration-color: #00af00\">0</span> │\n",
       "└──────────────────────────────────────┴─────────────────────────────┴─────────────────┘\n",
       "</pre>\n"
      ],
      "text/plain": [
       "┏━━━━━━━━━━━━━━━━━━━━━━━━━━━━━━━━━━━━━━┳━━━━━━━━━━━━━━━━━━━━━━━━━━━━━┳━━━━━━━━━━━━━━━━━┓\n",
       "┃\u001b[1m \u001b[0m\u001b[1mLayer (type)                        \u001b[0m\u001b[1m \u001b[0m┃\u001b[1m \u001b[0m\u001b[1mOutput Shape               \u001b[0m\u001b[1m \u001b[0m┃\u001b[1m \u001b[0m\u001b[1m        Param #\u001b[0m\u001b[1m \u001b[0m┃\n",
       "┡━━━━━━━━━━━━━━━━━━━━━━━━━━━━━━━━━━━━━━╇━━━━━━━━━━━━━━━━━━━━━━━━━━━━━╇━━━━━━━━━━━━━━━━━┩\n",
       "│ input_layer (\u001b[38;5;33mInputLayer\u001b[0m)             │ (\u001b[38;5;45mNone\u001b[0m, \u001b[38;5;34m224\u001b[0m, \u001b[38;5;34m224\u001b[0m, \u001b[38;5;34m3\u001b[0m)         │               \u001b[38;5;34m0\u001b[0m │\n",
       "├──────────────────────────────────────┼─────────────────────────────┼─────────────────┤\n",
       "│ efficientnetb0 (\u001b[38;5;33mFunctional\u001b[0m)          │ (\u001b[38;5;45mNone\u001b[0m, \u001b[38;5;34m7\u001b[0m, \u001b[38;5;34m7\u001b[0m, \u001b[38;5;34m1280\u001b[0m)          │       \u001b[38;5;34m4,049,571\u001b[0m │\n",
       "├──────────────────────────────────────┼─────────────────────────────┼─────────────────┤\n",
       "│ global_average_pooling2d_8           │ (\u001b[38;5;45mNone\u001b[0m, \u001b[38;5;34m1280\u001b[0m)                │               \u001b[38;5;34m0\u001b[0m │\n",
       "│ (\u001b[38;5;33mGlobalAveragePooling2D\u001b[0m)             │                             │                 │\n",
       "├──────────────────────────────────────┼─────────────────────────────┼─────────────────┤\n",
       "│ dense_8 (\u001b[38;5;33mDense\u001b[0m)                      │ (\u001b[38;5;45mNone\u001b[0m, \u001b[38;5;34m101\u001b[0m)                 │         \u001b[38;5;34m129,381\u001b[0m │\n",
       "├──────────────────────────────────────┼─────────────────────────────┼─────────────────┤\n",
       "│ softmax_float32 (\u001b[38;5;33mActivation\u001b[0m)         │ (\u001b[38;5;45mNone\u001b[0m, \u001b[38;5;34m101\u001b[0m)                 │               \u001b[38;5;34m0\u001b[0m │\n",
       "└──────────────────────────────────────┴─────────────────────────────┴─────────────────┘\n"
      ]
     },
     "metadata": {},
     "output_type": "display_data"
    },
    {
     "data": {
      "text/html": [
       "<pre style=\"white-space:pre;overflow-x:auto;line-height:normal;font-family:Menlo,'DejaVu Sans Mono',consolas,'Courier New',monospace\"><span style=\"font-weight: bold\"> Total params: </span><span style=\"color: #00af00; text-decoration-color: #00af00\">4,437,720</span> (16.93 MB)\n",
       "</pre>\n"
      ],
      "text/plain": [
       "\u001b[1m Total params: \u001b[0m\u001b[38;5;34m4,437,720\u001b[0m (16.93 MB)\n"
      ]
     },
     "metadata": {},
     "output_type": "display_data"
    },
    {
     "data": {
      "text/html": [
       "<pre style=\"white-space:pre;overflow-x:auto;line-height:normal;font-family:Menlo,'DejaVu Sans Mono',consolas,'Courier New',monospace\"><span style=\"font-weight: bold\"> Trainable params: </span><span style=\"color: #00af00; text-decoration-color: #00af00\">129,381</span> (505.39 KB)\n",
       "</pre>\n"
      ],
      "text/plain": [
       "\u001b[1m Trainable params: \u001b[0m\u001b[38;5;34m129,381\u001b[0m (505.39 KB)\n"
      ]
     },
     "metadata": {},
     "output_type": "display_data"
    },
    {
     "data": {
      "text/html": [
       "<pre style=\"white-space:pre;overflow-x:auto;line-height:normal;font-family:Menlo,'DejaVu Sans Mono',consolas,'Courier New',monospace\"><span style=\"font-weight: bold\"> Non-trainable params: </span><span style=\"color: #00af00; text-decoration-color: #00af00\">4,049,571</span> (15.45 MB)\n",
       "</pre>\n"
      ],
      "text/plain": [
       "\u001b[1m Non-trainable params: \u001b[0m\u001b[38;5;34m4,049,571\u001b[0m (15.45 MB)\n"
      ]
     },
     "metadata": {},
     "output_type": "display_data"
    },
    {
     "data": {
      "text/html": [
       "<pre style=\"white-space:pre;overflow-x:auto;line-height:normal;font-family:Menlo,'DejaVu Sans Mono',consolas,'Courier New',monospace\"><span style=\"font-weight: bold\"> Optimizer params: </span><span style=\"color: #00af00; text-decoration-color: #00af00\">258,768</span> (1010.82 KB)\n",
       "</pre>\n"
      ],
      "text/plain": [
       "\u001b[1m Optimizer params: \u001b[0m\u001b[38;5;34m258,768\u001b[0m (1010.82 KB)\n"
      ]
     },
     "metadata": {},
     "output_type": "display_data"
    }
   ],
   "source": [
    "loaded_model.summary()"
   ]
  },
  {
   "cell_type": "code",
   "execution_count": 261,
   "metadata": {
    "execution": {
     "iopub.execute_input": "2025-01-14T12:18:21.860824Z",
     "iopub.status.busy": "2025-01-14T12:18:21.860482Z",
     "iopub.status.idle": "2025-01-14T12:18:21.870992Z",
     "shell.execute_reply": "2025-01-14T12:18:21.869784Z",
     "shell.execute_reply.started": "2025-01-14T12:18:21.860789Z"
    },
    "trusted": true
   },
   "outputs": [],
   "source": [
    "# Unfreeze all of the layers in the base model\n",
    "base_model.trainable = True\n",
    "\n",
    "# Refreeze every layer except the last 20\n",
    "# for layer in base_model.layers[:-20]:\n",
    "#     layer.trainable = False"
   ]
  },
  {
   "cell_type": "code",
   "execution_count": 262,
   "metadata": {
    "execution": {
     "iopub.execute_input": "2025-01-14T12:18:21.872239Z",
     "iopub.status.busy": "2025-01-14T12:18:21.871931Z",
     "iopub.status.idle": "2025-01-14T12:18:21.884306Z",
     "shell.execute_reply": "2025-01-14T12:18:21.881453Z",
     "shell.execute_reply.started": "2025-01-14T12:18:21.872206Z"
    },
    "trusted": true
   },
   "outputs": [
    {
     "name": "stdout",
     "output_type": "stream",
     "text": [
      "input_layer True float32 <DTypePolicy \"mixed_float16\">\n",
      "efficientnetb0 True float32 <DTypePolicy \"mixed_float16\">\n",
      "global_average_pooling2d_8 True float32 <DTypePolicy \"mixed_float16\">\n",
      "dense_8 True float32 <DTypePolicy \"mixed_float16\">\n",
      "softmax_float32 True float32 <DTypePolicy \"float32\">\n"
     ]
    }
   ],
   "source": [
    "# Are any of the layers in our model frozen?\n",
    "for layer in model.layers:\n",
    "    model.trainable = True # set all layers to trainable\n",
    "    print(layer.name, layer.trainable, layer.dtype, layer.dtype_policy)"
   ]
  },
  {
   "cell_type": "code",
   "execution_count": 263,
   "metadata": {
    "execution": {
     "iopub.execute_input": "2025-01-14T12:18:21.885573Z",
     "iopub.status.busy": "2025-01-14T12:18:21.885275Z",
     "iopub.status.idle": "2025-01-14T12:18:21.905786Z",
     "shell.execute_reply": "2025-01-14T12:18:21.904846Z",
     "shell.execute_reply.started": "2025-01-14T12:18:21.885545Z"
    },
    "trusted": true
   },
   "outputs": [],
   "source": [
    "# Compile the model\n",
    "model.compile(loss=\"sparse_categorical_crossentropy\",\n",
    "              optimizer=tf.keras.optimizers.Adam(learning_rate=0.0001),\n",
    "              metrics=[\"accuracy\"])"
   ]
  },
  {
   "cell_type": "code",
   "execution_count": 264,
   "metadata": {
    "execution": {
     "iopub.execute_input": "2025-01-14T12:18:21.906854Z",
     "iopub.status.busy": "2025-01-14T12:18:21.906552Z",
     "iopub.status.idle": "2025-01-14T12:18:22.043990Z",
     "shell.execute_reply": "2025-01-14T12:18:22.043146Z",
     "shell.execute_reply.started": "2025-01-14T12:18:21.906826Z"
    },
    "trusted": true
   },
   "outputs": [
    {
     "name": "stdout",
     "output_type": "stream",
     "text": [
      "0 input_layer_8 True float32 <DTypePolicy \"mixed_float16\">\n",
      "1 rescaling_16 True float32 <DTypePolicy \"mixed_float16\">\n",
      "2 normalization_8 True float32 <DTypePolicy \"mixed_float16\">\n",
      "3 rescaling_17 True float32 <DTypePolicy \"mixed_float16\">\n",
      "4 stem_conv_pad True float32 <DTypePolicy \"mixed_float16\">\n",
      "5 stem_conv True float32 <DTypePolicy \"mixed_float16\">\n",
      "6 stem_bn True float32 <DTypePolicy \"mixed_float16\">\n",
      "7 stem_activation True float32 <DTypePolicy \"mixed_float16\">\n",
      "8 block1a_dwconv True float32 <DTypePolicy \"mixed_float16\">\n",
      "9 block1a_bn True float32 <DTypePolicy \"mixed_float16\">\n",
      "10 block1a_activation True float32 <DTypePolicy \"mixed_float16\">\n",
      "11 block1a_se_squeeze True float32 <DTypePolicy \"mixed_float16\">\n",
      "12 block1a_se_reshape True float32 <DTypePolicy \"mixed_float16\">\n",
      "13 block1a_se_reduce True float32 <DTypePolicy \"mixed_float16\">\n",
      "14 block1a_se_expand True float32 <DTypePolicy \"mixed_float16\">\n",
      "15 block1a_se_excite True float32 <DTypePolicy \"mixed_float16\">\n",
      "16 block1a_project_conv True float32 <DTypePolicy \"mixed_float16\">\n",
      "17 block1a_project_bn True float32 <DTypePolicy \"mixed_float16\">\n",
      "18 block2a_expand_conv True float32 <DTypePolicy \"mixed_float16\">\n",
      "19 block2a_expand_bn True float32 <DTypePolicy \"mixed_float16\">\n",
      "20 block2a_expand_activation True float32 <DTypePolicy \"mixed_float16\">\n",
      "21 block2a_dwconv_pad True float32 <DTypePolicy \"mixed_float16\">\n",
      "22 block2a_dwconv True float32 <DTypePolicy \"mixed_float16\">\n",
      "23 block2a_bn True float32 <DTypePolicy \"mixed_float16\">\n",
      "24 block2a_activation True float32 <DTypePolicy \"mixed_float16\">\n",
      "25 block2a_se_squeeze True float32 <DTypePolicy \"mixed_float16\">\n",
      "26 block2a_se_reshape True float32 <DTypePolicy \"mixed_float16\">\n",
      "27 block2a_se_reduce True float32 <DTypePolicy \"mixed_float16\">\n",
      "28 block2a_se_expand True float32 <DTypePolicy \"mixed_float16\">\n",
      "29 block2a_se_excite True float32 <DTypePolicy \"mixed_float16\">\n",
      "30 block2a_project_conv True float32 <DTypePolicy \"mixed_float16\">\n",
      "31 block2a_project_bn True float32 <DTypePolicy \"mixed_float16\">\n",
      "32 block2b_expand_conv True float32 <DTypePolicy \"mixed_float16\">\n",
      "33 block2b_expand_bn True float32 <DTypePolicy \"mixed_float16\">\n",
      "34 block2b_expand_activation True float32 <DTypePolicy \"mixed_float16\">\n",
      "35 block2b_dwconv True float32 <DTypePolicy \"mixed_float16\">\n",
      "36 block2b_bn True float32 <DTypePolicy \"mixed_float16\">\n",
      "37 block2b_activation True float32 <DTypePolicy \"mixed_float16\">\n",
      "38 block2b_se_squeeze True float32 <DTypePolicy \"mixed_float16\">\n",
      "39 block2b_se_reshape True float32 <DTypePolicy \"mixed_float16\">\n",
      "40 block2b_se_reduce True float32 <DTypePolicy \"mixed_float16\">\n",
      "41 block2b_se_expand True float32 <DTypePolicy \"mixed_float16\">\n",
      "42 block2b_se_excite True float32 <DTypePolicy \"mixed_float16\">\n",
      "43 block2b_project_conv True float32 <DTypePolicy \"mixed_float16\">\n",
      "44 block2b_project_bn True float32 <DTypePolicy \"mixed_float16\">\n",
      "45 block2b_drop True float32 <DTypePolicy \"mixed_float16\">\n",
      "46 block2b_add True float32 <DTypePolicy \"mixed_float16\">\n",
      "47 block3a_expand_conv True float32 <DTypePolicy \"mixed_float16\">\n",
      "48 block3a_expand_bn True float32 <DTypePolicy \"mixed_float16\">\n",
      "49 block3a_expand_activation True float32 <DTypePolicy \"mixed_float16\">\n",
      "50 block3a_dwconv_pad True float32 <DTypePolicy \"mixed_float16\">\n",
      "51 block3a_dwconv True float32 <DTypePolicy \"mixed_float16\">\n",
      "52 block3a_bn True float32 <DTypePolicy \"mixed_float16\">\n",
      "53 block3a_activation True float32 <DTypePolicy \"mixed_float16\">\n",
      "54 block3a_se_squeeze True float32 <DTypePolicy \"mixed_float16\">\n",
      "55 block3a_se_reshape True float32 <DTypePolicy \"mixed_float16\">\n",
      "56 block3a_se_reduce True float32 <DTypePolicy \"mixed_float16\">\n",
      "57 block3a_se_expand True float32 <DTypePolicy \"mixed_float16\">\n",
      "58 block3a_se_excite True float32 <DTypePolicy \"mixed_float16\">\n",
      "59 block3a_project_conv True float32 <DTypePolicy \"mixed_float16\">\n",
      "60 block3a_project_bn True float32 <DTypePolicy \"mixed_float16\">\n",
      "61 block3b_expand_conv True float32 <DTypePolicy \"mixed_float16\">\n",
      "62 block3b_expand_bn True float32 <DTypePolicy \"mixed_float16\">\n",
      "63 block3b_expand_activation True float32 <DTypePolicy \"mixed_float16\">\n",
      "64 block3b_dwconv True float32 <DTypePolicy \"mixed_float16\">\n",
      "65 block3b_bn True float32 <DTypePolicy \"mixed_float16\">\n",
      "66 block3b_activation True float32 <DTypePolicy \"mixed_float16\">\n",
      "67 block3b_se_squeeze True float32 <DTypePolicy \"mixed_float16\">\n",
      "68 block3b_se_reshape True float32 <DTypePolicy \"mixed_float16\">\n",
      "69 block3b_se_reduce True float32 <DTypePolicy \"mixed_float16\">\n",
      "70 block3b_se_expand True float32 <DTypePolicy \"mixed_float16\">\n",
      "71 block3b_se_excite True float32 <DTypePolicy \"mixed_float16\">\n",
      "72 block3b_project_conv True float32 <DTypePolicy \"mixed_float16\">\n",
      "73 block3b_project_bn True float32 <DTypePolicy \"mixed_float16\">\n",
      "74 block3b_drop True float32 <DTypePolicy \"mixed_float16\">\n",
      "75 block3b_add True float32 <DTypePolicy \"mixed_float16\">\n",
      "76 block4a_expand_conv True float32 <DTypePolicy \"mixed_float16\">\n",
      "77 block4a_expand_bn True float32 <DTypePolicy \"mixed_float16\">\n",
      "78 block4a_expand_activation True float32 <DTypePolicy \"mixed_float16\">\n",
      "79 block4a_dwconv_pad True float32 <DTypePolicy \"mixed_float16\">\n",
      "80 block4a_dwconv True float32 <DTypePolicy \"mixed_float16\">\n",
      "81 block4a_bn True float32 <DTypePolicy \"mixed_float16\">\n",
      "82 block4a_activation True float32 <DTypePolicy \"mixed_float16\">\n",
      "83 block4a_se_squeeze True float32 <DTypePolicy \"mixed_float16\">\n",
      "84 block4a_se_reshape True float32 <DTypePolicy \"mixed_float16\">\n",
      "85 block4a_se_reduce True float32 <DTypePolicy \"mixed_float16\">\n",
      "86 block4a_se_expand True float32 <DTypePolicy \"mixed_float16\">\n",
      "87 block4a_se_excite True float32 <DTypePolicy \"mixed_float16\">\n",
      "88 block4a_project_conv True float32 <DTypePolicy \"mixed_float16\">\n",
      "89 block4a_project_bn True float32 <DTypePolicy \"mixed_float16\">\n",
      "90 block4b_expand_conv True float32 <DTypePolicy \"mixed_float16\">\n",
      "91 block4b_expand_bn True float32 <DTypePolicy \"mixed_float16\">\n",
      "92 block4b_expand_activation True float32 <DTypePolicy \"mixed_float16\">\n",
      "93 block4b_dwconv True float32 <DTypePolicy \"mixed_float16\">\n",
      "94 block4b_bn True float32 <DTypePolicy \"mixed_float16\">\n",
      "95 block4b_activation True float32 <DTypePolicy \"mixed_float16\">\n",
      "96 block4b_se_squeeze True float32 <DTypePolicy \"mixed_float16\">\n",
      "97 block4b_se_reshape True float32 <DTypePolicy \"mixed_float16\">\n",
      "98 block4b_se_reduce True float32 <DTypePolicy \"mixed_float16\">\n",
      "99 block4b_se_expand True float32 <DTypePolicy \"mixed_float16\">\n",
      "100 block4b_se_excite True float32 <DTypePolicy \"mixed_float16\">\n",
      "101 block4b_project_conv True float32 <DTypePolicy \"mixed_float16\">\n",
      "102 block4b_project_bn True float32 <DTypePolicy \"mixed_float16\">\n",
      "103 block4b_drop True float32 <DTypePolicy \"mixed_float16\">\n",
      "104 block4b_add True float32 <DTypePolicy \"mixed_float16\">\n",
      "105 block4c_expand_conv True float32 <DTypePolicy \"mixed_float16\">\n",
      "106 block4c_expand_bn True float32 <DTypePolicy \"mixed_float16\">\n",
      "107 block4c_expand_activation True float32 <DTypePolicy \"mixed_float16\">\n",
      "108 block4c_dwconv True float32 <DTypePolicy \"mixed_float16\">\n",
      "109 block4c_bn True float32 <DTypePolicy \"mixed_float16\">\n",
      "110 block4c_activation True float32 <DTypePolicy \"mixed_float16\">\n",
      "111 block4c_se_squeeze True float32 <DTypePolicy \"mixed_float16\">\n",
      "112 block4c_se_reshape True float32 <DTypePolicy \"mixed_float16\">\n",
      "113 block4c_se_reduce True float32 <DTypePolicy \"mixed_float16\">\n",
      "114 block4c_se_expand True float32 <DTypePolicy \"mixed_float16\">\n",
      "115 block4c_se_excite True float32 <DTypePolicy \"mixed_float16\">\n",
      "116 block4c_project_conv True float32 <DTypePolicy \"mixed_float16\">\n",
      "117 block4c_project_bn True float32 <DTypePolicy \"mixed_float16\">\n",
      "118 block4c_drop True float32 <DTypePolicy \"mixed_float16\">\n",
      "119 block4c_add True float32 <DTypePolicy \"mixed_float16\">\n",
      "120 block5a_expand_conv True float32 <DTypePolicy \"mixed_float16\">\n",
      "121 block5a_expand_bn True float32 <DTypePolicy \"mixed_float16\">\n",
      "122 block5a_expand_activation True float32 <DTypePolicy \"mixed_float16\">\n",
      "123 block5a_dwconv True float32 <DTypePolicy \"mixed_float16\">\n",
      "124 block5a_bn True float32 <DTypePolicy \"mixed_float16\">\n",
      "125 block5a_activation True float32 <DTypePolicy \"mixed_float16\">\n",
      "126 block5a_se_squeeze True float32 <DTypePolicy \"mixed_float16\">\n",
      "127 block5a_se_reshape True float32 <DTypePolicy \"mixed_float16\">\n",
      "128 block5a_se_reduce True float32 <DTypePolicy \"mixed_float16\">\n",
      "129 block5a_se_expand True float32 <DTypePolicy \"mixed_float16\">\n",
      "130 block5a_se_excite True float32 <DTypePolicy \"mixed_float16\">\n",
      "131 block5a_project_conv True float32 <DTypePolicy \"mixed_float16\">\n",
      "132 block5a_project_bn True float32 <DTypePolicy \"mixed_float16\">\n",
      "133 block5b_expand_conv True float32 <DTypePolicy \"mixed_float16\">\n",
      "134 block5b_expand_bn True float32 <DTypePolicy \"mixed_float16\">\n",
      "135 block5b_expand_activation True float32 <DTypePolicy \"mixed_float16\">\n",
      "136 block5b_dwconv True float32 <DTypePolicy \"mixed_float16\">\n",
      "137 block5b_bn True float32 <DTypePolicy \"mixed_float16\">\n",
      "138 block5b_activation True float32 <DTypePolicy \"mixed_float16\">\n",
      "139 block5b_se_squeeze True float32 <DTypePolicy \"mixed_float16\">\n",
      "140 block5b_se_reshape True float32 <DTypePolicy \"mixed_float16\">\n",
      "141 block5b_se_reduce True float32 <DTypePolicy \"mixed_float16\">\n",
      "142 block5b_se_expand True float32 <DTypePolicy \"mixed_float16\">\n",
      "143 block5b_se_excite True float32 <DTypePolicy \"mixed_float16\">\n",
      "144 block5b_project_conv True float32 <DTypePolicy \"mixed_float16\">\n",
      "145 block5b_project_bn True float32 <DTypePolicy \"mixed_float16\">\n",
      "146 block5b_drop True float32 <DTypePolicy \"mixed_float16\">\n",
      "147 block5b_add True float32 <DTypePolicy \"mixed_float16\">\n",
      "148 block5c_expand_conv True float32 <DTypePolicy \"mixed_float16\">\n",
      "149 block5c_expand_bn True float32 <DTypePolicy \"mixed_float16\">\n",
      "150 block5c_expand_activation True float32 <DTypePolicy \"mixed_float16\">\n",
      "151 block5c_dwconv True float32 <DTypePolicy \"mixed_float16\">\n",
      "152 block5c_bn True float32 <DTypePolicy \"mixed_float16\">\n",
      "153 block5c_activation True float32 <DTypePolicy \"mixed_float16\">\n",
      "154 block5c_se_squeeze True float32 <DTypePolicy \"mixed_float16\">\n",
      "155 block5c_se_reshape True float32 <DTypePolicy \"mixed_float16\">\n",
      "156 block5c_se_reduce True float32 <DTypePolicy \"mixed_float16\">\n",
      "157 block5c_se_expand True float32 <DTypePolicy \"mixed_float16\">\n",
      "158 block5c_se_excite True float32 <DTypePolicy \"mixed_float16\">\n",
      "159 block5c_project_conv True float32 <DTypePolicy \"mixed_float16\">\n",
      "160 block5c_project_bn True float32 <DTypePolicy \"mixed_float16\">\n",
      "161 block5c_drop True float32 <DTypePolicy \"mixed_float16\">\n",
      "162 block5c_add True float32 <DTypePolicy \"mixed_float16\">\n",
      "163 block6a_expand_conv True float32 <DTypePolicy \"mixed_float16\">\n",
      "164 block6a_expand_bn True float32 <DTypePolicy \"mixed_float16\">\n",
      "165 block6a_expand_activation True float32 <DTypePolicy \"mixed_float16\">\n",
      "166 block6a_dwconv_pad True float32 <DTypePolicy \"mixed_float16\">\n",
      "167 block6a_dwconv True float32 <DTypePolicy \"mixed_float16\">\n",
      "168 block6a_bn True float32 <DTypePolicy \"mixed_float16\">\n",
      "169 block6a_activation True float32 <DTypePolicy \"mixed_float16\">\n",
      "170 block6a_se_squeeze True float32 <DTypePolicy \"mixed_float16\">\n",
      "171 block6a_se_reshape True float32 <DTypePolicy \"mixed_float16\">\n",
      "172 block6a_se_reduce True float32 <DTypePolicy \"mixed_float16\">\n",
      "173 block6a_se_expand True float32 <DTypePolicy \"mixed_float16\">\n",
      "174 block6a_se_excite True float32 <DTypePolicy \"mixed_float16\">\n",
      "175 block6a_project_conv True float32 <DTypePolicy \"mixed_float16\">\n",
      "176 block6a_project_bn True float32 <DTypePolicy \"mixed_float16\">\n",
      "177 block6b_expand_conv True float32 <DTypePolicy \"mixed_float16\">\n",
      "178 block6b_expand_bn True float32 <DTypePolicy \"mixed_float16\">\n",
      "179 block6b_expand_activation True float32 <DTypePolicy \"mixed_float16\">\n",
      "180 block6b_dwconv True float32 <DTypePolicy \"mixed_float16\">\n",
      "181 block6b_bn True float32 <DTypePolicy \"mixed_float16\">\n",
      "182 block6b_activation True float32 <DTypePolicy \"mixed_float16\">\n",
      "183 block6b_se_squeeze True float32 <DTypePolicy \"mixed_float16\">\n",
      "184 block6b_se_reshape True float32 <DTypePolicy \"mixed_float16\">\n",
      "185 block6b_se_reduce True float32 <DTypePolicy \"mixed_float16\">\n",
      "186 block6b_se_expand True float32 <DTypePolicy \"mixed_float16\">\n",
      "187 block6b_se_excite True float32 <DTypePolicy \"mixed_float16\">\n",
      "188 block6b_project_conv True float32 <DTypePolicy \"mixed_float16\">\n",
      "189 block6b_project_bn True float32 <DTypePolicy \"mixed_float16\">\n",
      "190 block6b_drop True float32 <DTypePolicy \"mixed_float16\">\n",
      "191 block6b_add True float32 <DTypePolicy \"mixed_float16\">\n",
      "192 block6c_expand_conv True float32 <DTypePolicy \"mixed_float16\">\n",
      "193 block6c_expand_bn True float32 <DTypePolicy \"mixed_float16\">\n",
      "194 block6c_expand_activation True float32 <DTypePolicy \"mixed_float16\">\n",
      "195 block6c_dwconv True float32 <DTypePolicy \"mixed_float16\">\n",
      "196 block6c_bn True float32 <DTypePolicy \"mixed_float16\">\n",
      "197 block6c_activation True float32 <DTypePolicy \"mixed_float16\">\n",
      "198 block6c_se_squeeze True float32 <DTypePolicy \"mixed_float16\">\n",
      "199 block6c_se_reshape True float32 <DTypePolicy \"mixed_float16\">\n",
      "200 block6c_se_reduce True float32 <DTypePolicy \"mixed_float16\">\n",
      "201 block6c_se_expand True float32 <DTypePolicy \"mixed_float16\">\n",
      "202 block6c_se_excite True float32 <DTypePolicy \"mixed_float16\">\n",
      "203 block6c_project_conv True float32 <DTypePolicy \"mixed_float16\">\n",
      "204 block6c_project_bn True float32 <DTypePolicy \"mixed_float16\">\n",
      "205 block6c_drop True float32 <DTypePolicy \"mixed_float16\">\n",
      "206 block6c_add True float32 <DTypePolicy \"mixed_float16\">\n",
      "207 block6d_expand_conv True float32 <DTypePolicy \"mixed_float16\">\n",
      "208 block6d_expand_bn True float32 <DTypePolicy \"mixed_float16\">\n",
      "209 block6d_expand_activation True float32 <DTypePolicy \"mixed_float16\">\n",
      "210 block6d_dwconv True float32 <DTypePolicy \"mixed_float16\">\n",
      "211 block6d_bn True float32 <DTypePolicy \"mixed_float16\">\n",
      "212 block6d_activation True float32 <DTypePolicy \"mixed_float16\">\n",
      "213 block6d_se_squeeze True float32 <DTypePolicy \"mixed_float16\">\n",
      "214 block6d_se_reshape True float32 <DTypePolicy \"mixed_float16\">\n",
      "215 block6d_se_reduce True float32 <DTypePolicy \"mixed_float16\">\n",
      "216 block6d_se_expand True float32 <DTypePolicy \"mixed_float16\">\n",
      "217 block6d_se_excite True float32 <DTypePolicy \"mixed_float16\">\n",
      "218 block6d_project_conv True float32 <DTypePolicy \"mixed_float16\">\n",
      "219 block6d_project_bn True float32 <DTypePolicy \"mixed_float16\">\n",
      "220 block6d_drop True float32 <DTypePolicy \"mixed_float16\">\n",
      "221 block6d_add True float32 <DTypePolicy \"mixed_float16\">\n",
      "222 block7a_expand_conv True float32 <DTypePolicy \"mixed_float16\">\n",
      "223 block7a_expand_bn True float32 <DTypePolicy \"mixed_float16\">\n",
      "224 block7a_expand_activation True float32 <DTypePolicy \"mixed_float16\">\n",
      "225 block7a_dwconv True float32 <DTypePolicy \"mixed_float16\">\n",
      "226 block7a_bn True float32 <DTypePolicy \"mixed_float16\">\n",
      "227 block7a_activation True float32 <DTypePolicy \"mixed_float16\">\n",
      "228 block7a_se_squeeze True float32 <DTypePolicy \"mixed_float16\">\n",
      "229 block7a_se_reshape True float32 <DTypePolicy \"mixed_float16\">\n",
      "230 block7a_se_reduce True float32 <DTypePolicy \"mixed_float16\">\n",
      "231 block7a_se_expand True float32 <DTypePolicy \"mixed_float16\">\n",
      "232 block7a_se_excite True float32 <DTypePolicy \"mixed_float16\">\n",
      "233 block7a_project_conv True float32 <DTypePolicy \"mixed_float16\">\n",
      "234 block7a_project_bn True float32 <DTypePolicy \"mixed_float16\">\n",
      "235 top_conv True float32 <DTypePolicy \"mixed_float16\">\n",
      "236 top_bn True float32 <DTypePolicy \"mixed_float16\">\n",
      "237 top_activation True float32 <DTypePolicy \"mixed_float16\">\n"
     ]
    }
   ],
   "source": [
    "for num, layer in enumerate(model.layers[1].layers):\n",
    "  print(num, layer.name, layer.trainable, layer.dtype, layer.dtype_policy)"
   ]
  },
  {
   "cell_type": "code",
   "execution_count": 265,
   "metadata": {
    "execution": {
     "iopub.execute_input": "2025-01-14T12:19:17.567044Z",
     "iopub.status.busy": "2025-01-14T12:19:17.566657Z",
     "iopub.status.idle": "2025-01-14T12:19:17.570898Z",
     "shell.execute_reply": "2025-01-14T12:19:17.569978Z",
     "shell.execute_reply.started": "2025-01-14T12:19:17.567016Z"
    },
    "trusted": true
   },
   "outputs": [],
   "source": [
    "earlystopping_callback = tf.keras.callbacks.EarlyStopping(monitor=\"val_loss\", patience=6)"
   ]
  },
  {
   "cell_type": "code",
   "execution_count": 266,
   "metadata": {
    "execution": {
     "iopub.execute_input": "2025-01-14T12:19:21.560793Z",
     "iopub.status.busy": "2025-01-14T12:19:21.560439Z",
     "iopub.status.idle": "2025-01-14T12:19:21.564522Z",
     "shell.execute_reply": "2025-01-14T12:19:21.563797Z",
     "shell.execute_reply.started": "2025-01-14T12:19:21.560733Z"
    },
    "trusted": true
   },
   "outputs": [],
   "source": [
    "# Create ModelCheckpoint callback to save best model during fine-tuning\n",
    "checkpoint_path = \"101_classes_100_percent_data_fine_tune_model_checkpoint.keras\"\n",
    "fine_tuned_model_checkpoint = tf.keras.callbacks.ModelCheckpoint(checkpoint_path,\n",
    "                                                         monitor=\"val_loss\",\n",
    "                                                         save_best_only=True,\n",
    "                                                         verbose=0)"
   ]
  },
  {
   "cell_type": "code",
   "execution_count": 267,
   "metadata": {
    "execution": {
     "iopub.execute_input": "2025-01-14T12:19:26.499264Z",
     "iopub.status.busy": "2025-01-14T12:19:26.498936Z",
     "iopub.status.idle": "2025-01-14T12:19:26.503209Z",
     "shell.execute_reply": "2025-01-14T12:19:26.502213Z",
     "shell.execute_reply.started": "2025-01-14T12:19:26.499236Z"
    },
    "trusted": true
   },
   "outputs": [],
   "source": [
    "# Creating learning rate reduction callback\n",
    "reduce_lr = tf.keras.callbacks.ReduceLROnPlateau(monitor=\"val_loss\",\n",
    "                                                  factor=0.2, # Multiply the learning rate by 0.2 (reduce by 5x)\n",
    "                                                  patience=2,\n",
    "                                                  verbose=1,\n",
    "                                                  min_lr=1e-8)"
   ]
  },
  {
   "cell_type": "code",
   "execution_count": 268,
   "metadata": {
    "execution": {
     "iopub.execute_input": "2025-01-14T12:19:31.975988Z",
     "iopub.status.busy": "2025-01-14T12:19:31.975657Z",
     "iopub.status.idle": "2025-01-14T12:56:20.055285Z",
     "shell.execute_reply": "2025-01-14T12:56:20.054548Z",
     "shell.execute_reply.started": "2025-01-14T12:19:31.975961Z"
    },
    "trusted": true
   },
   "outputs": [
    {
     "name": "stdout",
     "output_type": "stream",
     "text": [
      "Epoch 1/20\n",
      "\u001b[1m2368/2368\u001b[0m \u001b[32m━━━━━━━━━━━━━━━━━━━━\u001b[0m\u001b[37m\u001b[0m \u001b[1m305s\u001b[0m 101ms/step - accuracy: 0.6165 - loss: 1.5114 - val_accuracy: 0.7971 - val_loss: 0.7374 - learning_rate: 1.0000e-04\n",
      "Epoch 2/20\n",
      "\u001b[1m2368/2368\u001b[0m \u001b[32m━━━━━━━━━━━━━━━━━━━━\u001b[0m\u001b[37m\u001b[0m \u001b[1m3s\u001b[0m 1ms/step - accuracy: 0.0000e+00 - loss: 0.0000e+00 - val_accuracy: 0.7940 - val_loss: 0.7490 - learning_rate: 1.0000e-04\n",
      "Epoch 3/20\n",
      "\u001b[1m2368/2368\u001b[0m \u001b[32m━━━━━━━━━━━━━━━━━━━━\u001b[0m\u001b[37m\u001b[0m \u001b[1m207s\u001b[0m 87ms/step - accuracy: 0.7861 - loss: 0.7986 - val_accuracy: 0.8151 - val_loss: 0.6435 - learning_rate: 1.0000e-04\n",
      "Epoch 4/20\n",
      "\u001b[1m2368/2368\u001b[0m \u001b[32m━━━━━━━━━━━━━━━━━━━━\u001b[0m\u001b[37m\u001b[0m \u001b[1m3s\u001b[0m 1ms/step - accuracy: 0.0000e+00 - loss: 0.0000e+00 - val_accuracy: 0.8239 - val_loss: 0.6461 - learning_rate: 1.0000e-04\n",
      "Epoch 5/20\n",
      "\u001b[1m2368/2368\u001b[0m \u001b[32m━━━━━━━━━━━━━━━━━━━━\u001b[0m\u001b[37m\u001b[0m \u001b[1m209s\u001b[0m 88ms/step - accuracy: 0.8437 - loss: 0.5818 - val_accuracy: 0.8294 - val_loss: 0.6246 - learning_rate: 1.0000e-04\n",
      "Epoch 6/20\n",
      "\u001b[1m2368/2368\u001b[0m \u001b[32m━━━━━━━━━━━━━━━━━━━━\u001b[0m\u001b[37m\u001b[0m \u001b[1m3s\u001b[0m 1ms/step - accuracy: 0.0000e+00 - loss: 0.0000e+00 - val_accuracy: 0.8167 - val_loss: 0.6483 - learning_rate: 1.0000e-04\n",
      "Epoch 7/20\n",
      "\u001b[1m2367/2368\u001b[0m \u001b[32m━━━━━━━━━━━━━━━━━━━\u001b[0m\u001b[37m━\u001b[0m \u001b[1m0s\u001b[0m 86ms/step - accuracy: 0.8891 - loss: 0.4163\n",
      "Epoch 7: ReduceLROnPlateau reducing learning rate to 1.9999999494757503e-05.\n",
      "\u001b[1m2368/2368\u001b[0m \u001b[32m━━━━━━━━━━━━━━━━━━━━\u001b[0m\u001b[37m\u001b[0m \u001b[1m210s\u001b[0m 88ms/step - accuracy: 0.8891 - loss: 0.4163 - val_accuracy: 0.8045 - val_loss: 0.6688 - learning_rate: 1.0000e-04\n",
      "Epoch 8/20\n",
      "\u001b[1m2368/2368\u001b[0m \u001b[32m━━━━━━━━━━━━━━━━━━━━\u001b[0m\u001b[37m\u001b[0m \u001b[1m4s\u001b[0m 1ms/step - accuracy: 0.0000e+00 - loss: 0.0000e+00 - val_accuracy: 0.8236 - val_loss: 0.6322 - learning_rate: 2.0000e-05\n",
      "Epoch 9/20\n",
      "\u001b[1m2368/2368\u001b[0m \u001b[32m━━━━━━━━━━━━━━━━━━━━\u001b[0m\u001b[37m\u001b[0m \u001b[1m209s\u001b[0m 88ms/step - accuracy: 0.9302 - loss: 0.2751 - val_accuracy: 0.8297 - val_loss: 0.6206 - learning_rate: 2.0000e-05\n",
      "Epoch 10/20\n",
      "\u001b[1m2368/2368\u001b[0m \u001b[32m━━━━━━━━━━━━━━━━━━━━\u001b[0m\u001b[37m\u001b[0m \u001b[1m4s\u001b[0m 2ms/step - accuracy: 0.0000e+00 - loss: 0.0000e+00 - val_accuracy: 0.8363 - val_loss: 0.5887 - learning_rate: 2.0000e-05\n",
      "Epoch 11/20\n",
      "\u001b[1m2368/2368\u001b[0m \u001b[32m━━━━━━━━━━━━━━━━━━━━\u001b[0m\u001b[37m\u001b[0m \u001b[1m207s\u001b[0m 87ms/step - accuracy: 0.9441 - loss: 0.2297 - val_accuracy: 0.8329 - val_loss: 0.6051 - learning_rate: 2.0000e-05\n",
      "Epoch 12/20\n",
      "\n",
      "Epoch 12: ReduceLROnPlateau reducing learning rate to 3.999999898951501e-06.\n",
      "\u001b[1m2368/2368\u001b[0m \u001b[32m━━━━━━━━━━━━━━━━━━━━\u001b[0m\u001b[37m\u001b[0m \u001b[1m3s\u001b[0m 1ms/step - accuracy: 0.0000e+00 - loss: 0.0000e+00 - val_accuracy: 0.8392 - val_loss: 0.6003 - learning_rate: 2.0000e-05\n",
      "Epoch 13/20\n",
      "\u001b[1m2368/2368\u001b[0m \u001b[32m━━━━━━━━━━━━━━━━━━━━\u001b[0m\u001b[37m\u001b[0m \u001b[1m208s\u001b[0m 87ms/step - accuracy: 0.9541 - loss: 0.1958 - val_accuracy: 0.8287 - val_loss: 0.6254 - learning_rate: 4.0000e-06\n",
      "Epoch 14/20\n",
      "\n",
      "Epoch 14: ReduceLROnPlateau reducing learning rate to 7.999999979801942e-07.\n",
      "\u001b[1m2368/2368\u001b[0m \u001b[32m━━━━━━━━━━━━━━━━━━━━\u001b[0m\u001b[37m\u001b[0m \u001b[1m2s\u001b[0m 878us/step - accuracy: 0.0000e+00 - loss: 0.0000e+00 - val_accuracy: 0.8234 - val_loss: 0.6322 - learning_rate: 4.0000e-06\n",
      "Epoch 15/20\n",
      "\u001b[1m2368/2368\u001b[0m \u001b[32m━━━━━━━━━━━━━━━━━━━━\u001b[0m\u001b[37m\u001b[0m \u001b[1m210s\u001b[0m 88ms/step - accuracy: 0.9573 - loss: 0.1880 - val_accuracy: 0.8416 - val_loss: 0.5858 - learning_rate: 8.0000e-07\n",
      "Epoch 16/20\n",
      "\u001b[1m2368/2368\u001b[0m \u001b[32m━━━━━━━━━━━━━━━━━━━━\u001b[0m\u001b[37m\u001b[0m \u001b[1m3s\u001b[0m 1ms/step - accuracy: 0.0000e+00 - loss: 0.0000e+00 - val_accuracy: 0.8329 - val_loss: 0.6263 - learning_rate: 8.0000e-07\n",
      "Epoch 17/20\n",
      "\u001b[1m2368/2368\u001b[0m \u001b[32m━━━━━━━━━━━━━━━━━━━━\u001b[0m\u001b[37m\u001b[0m \u001b[1m208s\u001b[0m 87ms/step - accuracy: 0.9556 - loss: 0.1903 - val_accuracy: 0.8392 - val_loss: 0.5803 - learning_rate: 8.0000e-07\n",
      "Epoch 18/20\n",
      "\u001b[1m2368/2368\u001b[0m \u001b[32m━━━━━━━━━━━━━━━━━━━━\u001b[0m\u001b[37m\u001b[0m \u001b[1m3s\u001b[0m 1ms/step - accuracy: 0.0000e+00 - loss: 0.0000e+00 - val_accuracy: 0.8321 - val_loss: 0.6030 - learning_rate: 8.0000e-07\n",
      "Epoch 19/20\n",
      "\u001b[1m2367/2368\u001b[0m \u001b[32m━━━━━━━━━━━━━━━━━━━\u001b[0m\u001b[37m━\u001b[0m \u001b[1m0s\u001b[0m 85ms/step - accuracy: 0.9573 - loss: 0.1895\n",
      "Epoch 19: ReduceLROnPlateau reducing learning rate to 1.600000018697756e-07.\n",
      "\u001b[1m2368/2368\u001b[0m \u001b[32m━━━━━━━━━━━━━━━━━━━━\u001b[0m\u001b[37m\u001b[0m \u001b[1m206s\u001b[0m 87ms/step - accuracy: 0.9573 - loss: 0.1895 - val_accuracy: 0.8400 - val_loss: 0.5947 - learning_rate: 8.0000e-07\n",
      "Epoch 20/20\n",
      "\u001b[1m2368/2368\u001b[0m \u001b[32m━━━━━━━━━━━━━━━━━━━━\u001b[0m\u001b[37m\u001b[0m \u001b[1m3s\u001b[0m 1ms/step - accuracy: 0.0000e+00 - loss: 0.0000e+00 - val_accuracy: 0.8308 - val_loss: 0.6277 - learning_rate: 1.6000e-07\n"
     ]
    }
   ],
   "source": [
    "# Fit the fine-tuned model with callbacks\n",
    "history_101_food_classes_fine_tuned_100_epochs = model.fit(train_data,\n",
    "                                                     epochs=20,\n",
    "                                                     steps_per_epoch=(len(train_data)),\n",
    "                                                     validation_data=test_data,\n",
    "                                                     validation_steps=int(0.15 * len(test_data)),\n",
    "                                                     callbacks=[fine_tuned_model_checkpoint, earlystopping_callback, reduce_lr])"
   ]
  },
  {
   "cell_type": "code",
   "execution_count": 271,
   "metadata": {
    "execution": {
     "iopub.execute_input": "2025-01-14T12:59:54.196485Z",
     "iopub.status.busy": "2025-01-14T12:59:54.196184Z",
     "iopub.status.idle": "2025-01-14T13:00:15.108445Z",
     "shell.execute_reply": "2025-01-14T13:00:15.107648Z",
     "shell.execute_reply.started": "2025-01-14T12:59:54.196463Z"
    },
    "trusted": true
   },
   "outputs": [
    {
     "name": "stdout",
     "output_type": "stream",
     "text": [
      "\u001b[1m790/790\u001b[0m \u001b[32m━━━━━━━━━━━━━━━━━━━━\u001b[0m\u001b[37m\u001b[0m \u001b[1m21s\u001b[0m 26ms/step - accuracy: 0.8364 - loss: 0.5988\n"
     ]
    }
   ],
   "source": [
    "fine_tuned_model_results = model.evaluate(test_data)"
   ]
  },
  {
   "cell_type": "code",
   "execution_count": 274,
   "metadata": {
    "execution": {
     "iopub.execute_input": "2025-01-14T13:03:42.861637Z",
     "iopub.status.busy": "2025-01-14T13:03:42.861317Z",
     "iopub.status.idle": "2025-01-14T13:03:44.072124Z",
     "shell.execute_reply": "2025-01-14T13:03:44.071147Z",
     "shell.execute_reply.started": "2025-01-14T13:03:42.861613Z"
    },
    "trusted": true
   },
   "outputs": [],
   "source": [
    "# Save the fine-tuned model\n",
    "model.save(\"models/101_food_classes_100_percent_saved_fine_tuned_big_dog_model.keras\")"
   ]
  },
  {
   "cell_type": "code",
   "execution_count": 275,
   "metadata": {
    "execution": {
     "iopub.execute_input": "2025-01-14T13:03:47.203772Z",
     "iopub.status.busy": "2025-01-14T13:03:47.203477Z",
     "iopub.status.idle": "2025-01-14T13:03:49.390085Z",
     "shell.execute_reply": "2025-01-14T13:03:49.389378Z",
     "shell.execute_reply.started": "2025-01-14T13:03:47.203730Z"
    },
    "trusted": true
   },
   "outputs": [],
   "source": [
    "loaded_fine_tuned_model = tf.keras.models.load_model(\"models/101_food_classes_100_percent_saved_fine_tuned_big_dog_model.keras\")"
   ]
  },
  {
   "cell_type": "code",
   "execution_count": 277,
   "metadata": {
    "execution": {
     "iopub.execute_input": "2025-01-14T13:04:25.238382Z",
     "iopub.status.busy": "2025-01-14T13:04:25.238086Z",
     "iopub.status.idle": "2025-01-14T13:04:25.264634Z",
     "shell.execute_reply": "2025-01-14T13:04:25.263928Z",
     "shell.execute_reply.started": "2025-01-14T13:04:25.238358Z"
    },
    "trusted": true
   },
   "outputs": [
    {
     "data": {
      "text/html": [
       "<pre style=\"white-space:pre;overflow-x:auto;line-height:normal;font-family:Menlo,'DejaVu Sans Mono',consolas,'Courier New',monospace\"><span style=\"font-weight: bold\">Model: \"functional_8\"</span>\n",
       "</pre>\n"
      ],
      "text/plain": [
       "\u001b[1mModel: \"functional_8\"\u001b[0m\n"
      ]
     },
     "metadata": {},
     "output_type": "display_data"
    },
    {
     "data": {
      "text/html": [
       "<pre style=\"white-space:pre;overflow-x:auto;line-height:normal;font-family:Menlo,'DejaVu Sans Mono',consolas,'Courier New',monospace\">┏━━━━━━━━━━━━━━━━━━━━━━━━━━━━━━━━━━━━━━┳━━━━━━━━━━━━━━━━━━━━━━━━━━━━━┳━━━━━━━━━━━━━━━━━┓\n",
       "┃<span style=\"font-weight: bold\"> Layer (type)                         </span>┃<span style=\"font-weight: bold\"> Output Shape                </span>┃<span style=\"font-weight: bold\">         Param # </span>┃\n",
       "┡━━━━━━━━━━━━━━━━━━━━━━━━━━━━━━━━━━━━━━╇━━━━━━━━━━━━━━━━━━━━━━━━━━━━━╇━━━━━━━━━━━━━━━━━┩\n",
       "│ input_layer (<span style=\"color: #0087ff; text-decoration-color: #0087ff\">InputLayer</span>)             │ (<span style=\"color: #00d7ff; text-decoration-color: #00d7ff\">None</span>, <span style=\"color: #00af00; text-decoration-color: #00af00\">224</span>, <span style=\"color: #00af00; text-decoration-color: #00af00\">224</span>, <span style=\"color: #00af00; text-decoration-color: #00af00\">3</span>)         │               <span style=\"color: #00af00; text-decoration-color: #00af00\">0</span> │\n",
       "├──────────────────────────────────────┼─────────────────────────────┼─────────────────┤\n",
       "│ efficientnetb0 (<span style=\"color: #0087ff; text-decoration-color: #0087ff\">Functional</span>)          │ (<span style=\"color: #00d7ff; text-decoration-color: #00d7ff\">None</span>, <span style=\"color: #00af00; text-decoration-color: #00af00\">7</span>, <span style=\"color: #00af00; text-decoration-color: #00af00\">7</span>, <span style=\"color: #00af00; text-decoration-color: #00af00\">1280</span>)          │       <span style=\"color: #00af00; text-decoration-color: #00af00\">4,049,571</span> │\n",
       "├──────────────────────────────────────┼─────────────────────────────┼─────────────────┤\n",
       "│ global_average_pooling2d_8           │ (<span style=\"color: #00d7ff; text-decoration-color: #00d7ff\">None</span>, <span style=\"color: #00af00; text-decoration-color: #00af00\">1280</span>)                │               <span style=\"color: #00af00; text-decoration-color: #00af00\">0</span> │\n",
       "│ (<span style=\"color: #0087ff; text-decoration-color: #0087ff\">GlobalAveragePooling2D</span>)             │                             │                 │\n",
       "├──────────────────────────────────────┼─────────────────────────────┼─────────────────┤\n",
       "│ dense_8 (<span style=\"color: #0087ff; text-decoration-color: #0087ff\">Dense</span>)                      │ (<span style=\"color: #00d7ff; text-decoration-color: #00d7ff\">None</span>, <span style=\"color: #00af00; text-decoration-color: #00af00\">101</span>)                 │         <span style=\"color: #00af00; text-decoration-color: #00af00\">129,381</span> │\n",
       "├──────────────────────────────────────┼─────────────────────────────┼─────────────────┤\n",
       "│ softmax_float32 (<span style=\"color: #0087ff; text-decoration-color: #0087ff\">Activation</span>)         │ (<span style=\"color: #00d7ff; text-decoration-color: #00d7ff\">None</span>, <span style=\"color: #00af00; text-decoration-color: #00af00\">101</span>)                 │               <span style=\"color: #00af00; text-decoration-color: #00af00\">0</span> │\n",
       "└──────────────────────────────────────┴─────────────────────────────┴─────────────────┘\n",
       "</pre>\n"
      ],
      "text/plain": [
       "┏━━━━━━━━━━━━━━━━━━━━━━━━━━━━━━━━━━━━━━┳━━━━━━━━━━━━━━━━━━━━━━━━━━━━━┳━━━━━━━━━━━━━━━━━┓\n",
       "┃\u001b[1m \u001b[0m\u001b[1mLayer (type)                        \u001b[0m\u001b[1m \u001b[0m┃\u001b[1m \u001b[0m\u001b[1mOutput Shape               \u001b[0m\u001b[1m \u001b[0m┃\u001b[1m \u001b[0m\u001b[1m        Param #\u001b[0m\u001b[1m \u001b[0m┃\n",
       "┡━━━━━━━━━━━━━━━━━━━━━━━━━━━━━━━━━━━━━━╇━━━━━━━━━━━━━━━━━━━━━━━━━━━━━╇━━━━━━━━━━━━━━━━━┩\n",
       "│ input_layer (\u001b[38;5;33mInputLayer\u001b[0m)             │ (\u001b[38;5;45mNone\u001b[0m, \u001b[38;5;34m224\u001b[0m, \u001b[38;5;34m224\u001b[0m, \u001b[38;5;34m3\u001b[0m)         │               \u001b[38;5;34m0\u001b[0m │\n",
       "├──────────────────────────────────────┼─────────────────────────────┼─────────────────┤\n",
       "│ efficientnetb0 (\u001b[38;5;33mFunctional\u001b[0m)          │ (\u001b[38;5;45mNone\u001b[0m, \u001b[38;5;34m7\u001b[0m, \u001b[38;5;34m7\u001b[0m, \u001b[38;5;34m1280\u001b[0m)          │       \u001b[38;5;34m4,049,571\u001b[0m │\n",
       "├──────────────────────────────────────┼─────────────────────────────┼─────────────────┤\n",
       "│ global_average_pooling2d_8           │ (\u001b[38;5;45mNone\u001b[0m, \u001b[38;5;34m1280\u001b[0m)                │               \u001b[38;5;34m0\u001b[0m │\n",
       "│ (\u001b[38;5;33mGlobalAveragePooling2D\u001b[0m)             │                             │                 │\n",
       "├──────────────────────────────────────┼─────────────────────────────┼─────────────────┤\n",
       "│ dense_8 (\u001b[38;5;33mDense\u001b[0m)                      │ (\u001b[38;5;45mNone\u001b[0m, \u001b[38;5;34m101\u001b[0m)                 │         \u001b[38;5;34m129,381\u001b[0m │\n",
       "├──────────────────────────────────────┼─────────────────────────────┼─────────────────┤\n",
       "│ softmax_float32 (\u001b[38;5;33mActivation\u001b[0m)         │ (\u001b[38;5;45mNone\u001b[0m, \u001b[38;5;34m101\u001b[0m)                 │               \u001b[38;5;34m0\u001b[0m │\n",
       "└──────────────────────────────────────┴─────────────────────────────┴─────────────────┘\n"
      ]
     },
     "metadata": {},
     "output_type": "display_data"
    },
    {
     "data": {
      "text/html": [
       "<pre style=\"white-space:pre;overflow-x:auto;line-height:normal;font-family:Menlo,'DejaVu Sans Mono',consolas,'Courier New',monospace\"><span style=\"font-weight: bold\"> Total params: </span><span style=\"color: #00af00; text-decoration-color: #00af00\">12,452,816</span> (47.50 MB)\n",
       "</pre>\n"
      ],
      "text/plain": [
       "\u001b[1m Total params: \u001b[0m\u001b[38;5;34m12,452,816\u001b[0m (47.50 MB)\n"
      ]
     },
     "metadata": {},
     "output_type": "display_data"
    },
    {
     "data": {
      "text/html": [
       "<pre style=\"white-space:pre;overflow-x:auto;line-height:normal;font-family:Menlo,'DejaVu Sans Mono',consolas,'Courier New',monospace\"><span style=\"font-weight: bold\"> Trainable params: </span><span style=\"color: #00af00; text-decoration-color: #00af00\">4,136,929</span> (15.78 MB)\n",
       "</pre>\n"
      ],
      "text/plain": [
       "\u001b[1m Trainable params: \u001b[0m\u001b[38;5;34m4,136,929\u001b[0m (15.78 MB)\n"
      ]
     },
     "metadata": {},
     "output_type": "display_data"
    },
    {
     "data": {
      "text/html": [
       "<pre style=\"white-space:pre;overflow-x:auto;line-height:normal;font-family:Menlo,'DejaVu Sans Mono',consolas,'Courier New',monospace\"><span style=\"font-weight: bold\"> Non-trainable params: </span><span style=\"color: #00af00; text-decoration-color: #00af00\">42,023</span> (164.16 KB)\n",
       "</pre>\n"
      ],
      "text/plain": [
       "\u001b[1m Non-trainable params: \u001b[0m\u001b[38;5;34m42,023\u001b[0m (164.16 KB)\n"
      ]
     },
     "metadata": {},
     "output_type": "display_data"
    },
    {
     "data": {
      "text/html": [
       "<pre style=\"white-space:pre;overflow-x:auto;line-height:normal;font-family:Menlo,'DejaVu Sans Mono',consolas,'Courier New',monospace\"><span style=\"font-weight: bold\"> Optimizer params: </span><span style=\"color: #00af00; text-decoration-color: #00af00\">8,273,864</span> (31.56 MB)\n",
       "</pre>\n"
      ],
      "text/plain": [
       "\u001b[1m Optimizer params: \u001b[0m\u001b[38;5;34m8,273,864\u001b[0m (31.56 MB)\n"
      ]
     },
     "metadata": {},
     "output_type": "display_data"
    }
   ],
   "source": [
    "model.summary()"
   ]
  },
  {
   "cell_type": "markdown",
   "metadata": {},
   "source": [
    "## EfficientNetB4"
   ]
  },
  {
   "cell_type": "code",
   "execution_count": 278,
   "metadata": {
    "execution": {
     "iopub.execute_input": "2025-01-14T13:08:17.697948Z",
     "iopub.status.busy": "2025-01-14T13:08:17.697556Z",
     "iopub.status.idle": "2025-01-14T13:08:20.559770Z",
     "shell.execute_reply": "2025-01-14T13:08:20.559109Z",
     "shell.execute_reply.started": "2025-01-14T13:08:17.697917Z"
    },
    "trusted": true
   },
   "outputs": [
    {
     "name": "stdout",
     "output_type": "stream",
     "text": [
      "Downloading data from https://storage.googleapis.com/keras-applications/efficientnetb4_notop.h5\n",
      "\u001b[1m71686520/71686520\u001b[0m \u001b[32m━━━━━━━━━━━━━━━━━━━━\u001b[0m\u001b[37m\u001b[0m \u001b[1m0s\u001b[0m 0us/step\n"
     ]
    }
   ],
   "source": [
    "from tensorflow.keras import layers\n",
    "\n",
    "# Create base model\n",
    "input_shape = (224, 224, 3)\n",
    "base_model = tf.keras.applications.EfficientNetB4(include_top=False)\n",
    "base_model.trainable = False\n",
    "\n",
    "# Create functional model\n",
    "inputs = layers.Input(shape=input_shape, name=\"input_layer\")\n",
    "# Note: EfficientNetBX models have rescaling built-in but if your model doesn't you can have a layer like below\n",
    "# x = preprocessing.Rescaling(1./255)(x)\n",
    "x = base_model(inputs, training=False) # makes sure layers which should be in inference mode only stay like that\n",
    "x = layers.GlobalAveragePooling2D()(x)\n",
    "x = layers.Dense(len(class_names))(x)\n",
    "outputs = layers.Activation(\"softmax\", dtype=tf.float32, name=\"softmax_float32\")(x)\n",
    "model_B4 = tf.keras.Model(inputs, outputs)\n",
    "\n",
    "# Compile the model\n",
    "model_B4.compile(loss=\"sparse_categorical_crossentropy\",\n",
    "              optimizer=tf.keras.optimizers.Adam(),\n",
    "              metrics=[\"accuracy\"])"
   ]
  },
  {
   "cell_type": "code",
   "execution_count": 279,
   "metadata": {
    "execution": {
     "iopub.execute_input": "2025-01-14T13:09:28.832968Z",
     "iopub.status.busy": "2025-01-14T13:09:28.832617Z",
     "iopub.status.idle": "2025-01-14T13:09:28.841591Z",
     "shell.execute_reply": "2025-01-14T13:09:28.840838Z",
     "shell.execute_reply.started": "2025-01-14T13:09:28.832945Z"
    },
    "trusted": true
   },
   "outputs": [
    {
     "name": "stdout",
     "output_type": "stream",
     "text": [
      "input_layer True float32 <DTypePolicy \"mixed_float16\">\n",
      "efficientnetb4 False float32 <DTypePolicy \"mixed_float16\">\n",
      "global_average_pooling2d_9 True float32 <DTypePolicy \"mixed_float16\">\n",
      "dense_9 True float32 <DTypePolicy \"mixed_float16\">\n",
      "softmax_float32 True float32 <DTypePolicy \"float32\">\n"
     ]
    }
   ],
   "source": [
    "# Check the dtype_policy attributes of layers in our model\n",
    "for layer in model_B4.layers:\n",
    "  print(layer.name, layer.trainable, layer.dtype, layer.dtype_policy)"
   ]
  },
  {
   "cell_type": "code",
   "execution_count": 280,
   "metadata": {
    "execution": {
     "iopub.execute_input": "2025-01-14T13:09:47.687538Z",
     "iopub.status.busy": "2025-01-14T13:09:47.687247Z",
     "iopub.status.idle": "2025-01-14T13:09:47.697805Z",
     "shell.execute_reply": "2025-01-14T13:09:47.694865Z",
     "shell.execute_reply.started": "2025-01-14T13:09:47.687509Z"
    },
    "trusted": true
   },
   "outputs": [
    {
     "name": "stdout",
     "output_type": "stream",
     "text": [
      "input_layer_9 False float32 <DTypePolicy \"mixed_float16\">\n",
      "rescaling_18 False float32 <DTypePolicy \"mixed_float16\">\n",
      "normalization_9 False float32 <DTypePolicy \"mixed_float16\">\n",
      "rescaling_19 False float32 <DTypePolicy \"mixed_float16\">\n",
      "stem_conv_pad False float32 <DTypePolicy \"mixed_float16\">\n",
      "stem_conv False float32 <DTypePolicy \"mixed_float16\">\n",
      "stem_bn False float32 <DTypePolicy \"mixed_float16\">\n",
      "stem_activation False float32 <DTypePolicy \"mixed_float16\">\n",
      "block1a_dwconv False float32 <DTypePolicy \"mixed_float16\">\n",
      "block1a_bn False float32 <DTypePolicy \"mixed_float16\">\n",
      "block1a_activation False float32 <DTypePolicy \"mixed_float16\">\n",
      "block1a_se_squeeze False float32 <DTypePolicy \"mixed_float16\">\n",
      "block1a_se_reshape False float32 <DTypePolicy \"mixed_float16\">\n",
      "block1a_se_reduce False float32 <DTypePolicy \"mixed_float16\">\n",
      "block1a_se_expand False float32 <DTypePolicy \"mixed_float16\">\n",
      "block1a_se_excite False float32 <DTypePolicy \"mixed_float16\">\n",
      "block1a_project_conv False float32 <DTypePolicy \"mixed_float16\">\n",
      "block1a_project_bn False float32 <DTypePolicy \"mixed_float16\">\n",
      "block1b_dwconv False float32 <DTypePolicy \"mixed_float16\">\n",
      "block1b_bn False float32 <DTypePolicy \"mixed_float16\">\n"
     ]
    }
   ],
   "source": [
    "# Check the dtype_policy attributes of layers in the base model\n",
    "for layer in model_B4.layers[1].layers[:20]: # check the layers of the base model (layer at index 1 of `model`)\n",
    "  print(layer.name, layer.trainable, layer.dtype, layer.dtype_policy)    "
   ]
  },
  {
   "cell_type": "code",
   "execution_count": 281,
   "metadata": {
    "execution": {
     "iopub.execute_input": "2025-01-14T13:11:44.011016Z",
     "iopub.status.busy": "2025-01-14T13:11:44.010671Z",
     "iopub.status.idle": "2025-01-14T13:11:44.015272Z",
     "shell.execute_reply": "2025-01-14T13:11:44.014236Z",
     "shell.execute_reply.started": "2025-01-14T13:11:44.010990Z"
    },
    "trusted": true
   },
   "outputs": [],
   "source": [
    "# Create checkpoint callback\n",
    "checkpoint_path = \"101_classes_100_percent_data_model_checkpoint_b4.weights.h5\"\n",
    "model_checkpoint = tf.keras.callbacks.ModelCheckpoint(checkpoint_path,\n",
    "                                                         save_weights_only=True,\n",
    "                                                         monitor=\"val_accuracy\",\n",
    "                                                         save_best_only=True,\n",
    "                                                         verbose=0)"
   ]
  },
  {
   "cell_type": "code",
   "execution_count": 282,
   "metadata": {
    "execution": {
     "iopub.execute_input": "2025-01-14T13:11:47.817513Z",
     "iopub.status.busy": "2025-01-14T13:11:47.817207Z",
     "iopub.status.idle": "2025-01-14T13:17:49.247358Z",
     "shell.execute_reply": "2025-01-14T13:17:49.245821Z",
     "shell.execute_reply.started": "2025-01-14T13:11:47.817486Z"
    },
    "trusted": true
   },
   "outputs": [
    {
     "name": "stdout",
     "output_type": "stream",
     "text": [
      "Epoch 1/3\n",
      "\u001b[1m2368/2368\u001b[0m \u001b[32m━━━━━━━━━━━━━━━━━━━━\u001b[0m\u001b[37m\u001b[0m \u001b[1m213s\u001b[0m 72ms/step - accuracy: 0.4311 - loss: 2.4324 - val_accuracy: 0.6419 - val_loss: 1.3778\n",
      "Epoch 2/3\n",
      "\u001b[1m2368/2368\u001b[0m \u001b[32m━━━━━━━━━━━━━━━━━━━━\u001b[0m\u001b[37m\u001b[0m \u001b[1m6s\u001b[0m 3ms/step - accuracy: 0.0000e+00 - loss: 0.0000e+00 - val_accuracy: 0.6385 - val_loss: 1.3751\n",
      "Epoch 3/3\n",
      "\u001b[1m2368/2368\u001b[0m \u001b[32m━━━━━━━━━━━━━━━━━━━━\u001b[0m\u001b[37m\u001b[0m \u001b[1m142s\u001b[0m 60ms/step - accuracy: 0.6052 - loss: 1.5321 - val_accuracy: 0.6573 - val_loss: 1.2661\n"
     ]
    }
   ],
   "source": [
    "# Fit the feature extraction model with callbacks\n",
    "history_101_food_classes_feature_extract_b4 = model_B4.fit(train_data,\n",
    "                                                     epochs=3,\n",
    "                                                     steps_per_epoch=(len(train_data)),\n",
    "                                                     validation_data=test_data,\n",
    "                                                     validation_steps=int(0.15 * len(test_data)),\n",
    "                                                     callbacks=[model_checkpoint])"
   ]
  },
  {
   "cell_type": "code",
   "execution_count": 283,
   "metadata": {
    "execution": {
     "iopub.execute_input": "2025-01-14T13:20:08.629398Z",
     "iopub.status.busy": "2025-01-14T13:20:08.629068Z",
     "iopub.status.idle": "2025-01-14T13:20:57.612683Z",
     "shell.execute_reply": "2025-01-14T13:20:57.612003Z",
     "shell.execute_reply.started": "2025-01-14T13:20:08.629375Z"
    },
    "trusted": true
   },
   "outputs": [
    {
     "name": "stdout",
     "output_type": "stream",
     "text": [
      "\u001b[1m790/790\u001b[0m \u001b[32m━━━━━━━━━━━━━━━━━━━━\u001b[0m\u001b[37m\u001b[0m \u001b[1m49s\u001b[0m 62ms/step - accuracy: 0.6646 - loss: 1.2699\n"
     ]
    },
    {
     "data": {
      "text/plain": [
       "[1.2728501558303833, 0.6646732687950134]"
      ]
     },
     "execution_count": 283,
     "metadata": {},
     "output_type": "execute_result"
    }
   ],
   "source": [
    "# Evaluate model_B4 on test dataset\n",
    "model_b4_result = model_B4.evaluate(test_data)\n",
    "model_b4_result"
   ]
  },
  {
   "cell_type": "code",
   "execution_count": 284,
   "metadata": {
    "execution": {
     "iopub.execute_input": "2025-01-14T13:23:08.142713Z",
     "iopub.status.busy": "2025-01-14T13:23:08.142377Z",
     "iopub.status.idle": "2025-01-14T13:23:08.153599Z",
     "shell.execute_reply": "2025-01-14T13:23:08.152716Z",
     "shell.execute_reply.started": "2025-01-14T13:23:08.142686Z"
    },
    "trusted": true
   },
   "outputs": [],
   "source": [
    "base_model.trainable = True"
   ]
  },
  {
   "cell_type": "code",
   "execution_count": 285,
   "metadata": {
    "execution": {
     "iopub.execute_input": "2025-01-14T13:23:52.783434Z",
     "iopub.status.busy": "2025-01-14T13:23:52.783145Z",
     "iopub.status.idle": "2025-01-14T13:23:52.792722Z",
     "shell.execute_reply": "2025-01-14T13:23:52.791791Z",
     "shell.execute_reply.started": "2025-01-14T13:23:52.783412Z"
    },
    "trusted": true
   },
   "outputs": [
    {
     "name": "stdout",
     "output_type": "stream",
     "text": [
      "input_layer True float32 <DTypePolicy \"mixed_float16\">\n",
      "efficientnetb4 True float32 <DTypePolicy \"mixed_float16\">\n",
      "global_average_pooling2d_9 True float32 <DTypePolicy \"mixed_float16\">\n",
      "dense_9 True float32 <DTypePolicy \"mixed_float16\">\n",
      "softmax_float32 True float32 <DTypePolicy \"float32\">\n"
     ]
    }
   ],
   "source": [
    "# Are any of the layers in our model frozen?\n",
    "for layer in model_B4.layers:\n",
    "    model_B4.trainable = True # set all layers to trainable\n",
    "    print(layer.name, layer.trainable, layer.dtype, layer.dtype_policy)"
   ]
  },
  {
   "cell_type": "code",
   "execution_count": 286,
   "metadata": {
    "execution": {
     "iopub.execute_input": "2025-01-14T13:24:44.814375Z",
     "iopub.status.busy": "2025-01-14T13:24:44.814081Z",
     "iopub.status.idle": "2025-01-14T13:24:44.826324Z",
     "shell.execute_reply": "2025-01-14T13:24:44.825627Z",
     "shell.execute_reply.started": "2025-01-14T13:24:44.814353Z"
    },
    "trusted": true
   },
   "outputs": [],
   "source": [
    "# Compile the model\n",
    "model_B4.compile(loss=\"sparse_categorical_crossentropy\",\n",
    "              optimizer=tf.keras.optimizers.Adam(learning_rate=0.0001),\n",
    "              metrics=[\"accuracy\"])"
   ]
  },
  {
   "cell_type": "code",
   "execution_count": 287,
   "metadata": {
    "execution": {
     "iopub.execute_input": "2025-01-14T13:24:58.477026Z",
     "iopub.status.busy": "2025-01-14T13:24:58.476664Z",
     "iopub.status.idle": "2025-01-14T13:24:58.480993Z",
     "shell.execute_reply": "2025-01-14T13:24:58.480064Z",
     "shell.execute_reply.started": "2025-01-14T13:24:58.477001Z"
    },
    "trusted": true
   },
   "outputs": [],
   "source": [
    "earlystopping_callback = tf.keras.callbacks.EarlyStopping(monitor=\"val_loss\", patience=6)"
   ]
  },
  {
   "cell_type": "code",
   "execution_count": 288,
   "metadata": {
    "execution": {
     "iopub.execute_input": "2025-01-14T13:25:48.823422Z",
     "iopub.status.busy": "2025-01-14T13:25:48.823110Z",
     "iopub.status.idle": "2025-01-14T13:25:48.827468Z",
     "shell.execute_reply": "2025-01-14T13:25:48.826582Z",
     "shell.execute_reply.started": "2025-01-14T13:25:48.823399Z"
    },
    "trusted": true
   },
   "outputs": [],
   "source": [
    "# Create ModelCheckpoint callback to save best model during fine-tuning\n",
    "checkpoint_path = \"101_classes_100_percent_data_fine_tune_model_checkpoint_B4.keras\"\n",
    "fine_tuned_model_checkpoint_B4 = tf.keras.callbacks.ModelCheckpoint(checkpoint_path,\n",
    "                                                         monitor=\"val_loss\",\n",
    "                                                         save_best_only=True,\n",
    "                                                         verbose=0)"
   ]
  },
  {
   "cell_type": "code",
   "execution_count": 289,
   "metadata": {
    "execution": {
     "iopub.execute_input": "2025-01-14T13:26:19.907934Z",
     "iopub.status.busy": "2025-01-14T13:26:19.907625Z",
     "iopub.status.idle": "2025-01-14T13:26:19.911884Z",
     "shell.execute_reply": "2025-01-14T13:26:19.910808Z",
     "shell.execute_reply.started": "2025-01-14T13:26:19.907911Z"
    },
    "trusted": true
   },
   "outputs": [],
   "source": [
    "# Creating learning rate reduction callback\n",
    "reduce_lr = tf.keras.callbacks.ReduceLROnPlateau(monitor=\"val_loss\",\n",
    "                                                  factor=0.2, # Multiply the learning rate by 0.2 (reduce by 5x)\n",
    "                                                  patience=2,\n",
    "                                                  verbose=1,\n",
    "                                                  min_lr=1e-8)"
   ]
  },
  {
   "cell_type": "code",
   "execution_count": 290,
   "metadata": {
    "execution": {
     "iopub.execute_input": "2025-01-14T13:27:15.368410Z",
     "iopub.status.busy": "2025-01-14T13:27:15.368087Z",
     "iopub.status.idle": "2025-01-14T14:55:11.804573Z",
     "shell.execute_reply": "2025-01-14T14:55:11.802504Z",
     "shell.execute_reply.started": "2025-01-14T13:27:15.368386Z"
    },
    "trusted": true
   },
   "outputs": [
    {
     "name": "stdout",
     "output_type": "stream",
     "text": [
      "Epoch 1/20\n",
      "\u001b[1m2368/2368\u001b[0m \u001b[32m━━━━━━━━━━━━━━━━━━━━\u001b[0m\u001b[37m\u001b[0m \u001b[1m754s\u001b[0m 248ms/step - accuracy: 0.5875 - loss: 1.6363 - val_accuracy: 0.8144 - val_loss: 0.6751 - learning_rate: 1.0000e-04\n",
      "Epoch 2/20\n",
      "\u001b[1m2368/2368\u001b[0m \u001b[32m━━━━━━━━━━━━━━━━━━━━\u001b[0m\u001b[37m\u001b[0m \u001b[1m6s\u001b[0m 3ms/step - accuracy: 0.0000e+00 - loss: 0.0000e+00 - val_accuracy: 0.8069 - val_loss: 0.6837 - learning_rate: 1.0000e-04\n",
      "Epoch 3/20\n",
      "\u001b[1m2368/2368\u001b[0m \u001b[32m━━━━━━━━━━━━━━━━━━━━\u001b[0m\u001b[37m\u001b[0m \u001b[1m500s\u001b[0m 210ms/step - accuracy: 0.8266 - loss: 0.6385 - val_accuracy: 0.8136 - val_loss: 0.6337 - learning_rate: 1.0000e-04\n",
      "Epoch 4/20\n",
      "\u001b[1m2368/2368\u001b[0m \u001b[32m━━━━━━━━━━━━━━━━━━━━\u001b[0m\u001b[37m\u001b[0m \u001b[1m6s\u001b[0m 3ms/step - accuracy: 0.0000e+00 - loss: 0.0000e+00 - val_accuracy: 0.8199 - val_loss: 0.6460 - learning_rate: 1.0000e-04\n",
      "Epoch 5/20\n",
      "\u001b[1m2368/2368\u001b[0m \u001b[32m━━━━━━━━━━━━━━━━━━━━\u001b[0m\u001b[37m\u001b[0m \u001b[1m502s\u001b[0m 211ms/step - accuracy: 0.9059 - loss: 0.3401 - val_accuracy: 0.8292 - val_loss: 0.6297 - learning_rate: 1.0000e-04\n",
      "Epoch 6/20\n",
      "\u001b[1m2368/2368\u001b[0m \u001b[32m━━━━━━━━━━━━━━━━━━━━\u001b[0m\u001b[37m\u001b[0m \u001b[1m6s\u001b[0m 3ms/step - accuracy: 0.0000e+00 - loss: 0.0000e+00 - val_accuracy: 0.8228 - val_loss: 0.6579 - learning_rate: 1.0000e-04\n",
      "Epoch 7/20\n",
      "\u001b[1m2368/2368\u001b[0m \u001b[32m━━━━━━━━━━━━━━━━━━━━\u001b[0m\u001b[37m\u001b[0m \u001b[1m0s\u001b[0m 206ms/step - accuracy: 0.9514 - loss: 0.1799\n",
      "Epoch 7: ReduceLROnPlateau reducing learning rate to 1.9999999494757503e-05.\n",
      "\u001b[1m2368/2368\u001b[0m \u001b[32m━━━━━━━━━━━━━━━━━━━━\u001b[0m\u001b[37m\u001b[0m \u001b[1m497s\u001b[0m 209ms/step - accuracy: 0.9514 - loss: 0.1799 - val_accuracy: 0.8304 - val_loss: 0.6868 - learning_rate: 1.0000e-04\n",
      "Epoch 8/20\n",
      "\u001b[1m2368/2368\u001b[0m \u001b[32m━━━━━━━━━━━━━━━━━━━━\u001b[0m\u001b[37m\u001b[0m \u001b[1m6s\u001b[0m 3ms/step - accuracy: 0.0000e+00 - loss: 0.0000e+00 - val_accuracy: 0.8416 - val_loss: 0.6387 - learning_rate: 2.0000e-05\n",
      "Epoch 9/20\n",
      "\u001b[1m2368/2368\u001b[0m \u001b[32m━━━━━━━━━━━━━━━━━━━━\u001b[0m\u001b[37m\u001b[0m \u001b[1m496s\u001b[0m 209ms/step - accuracy: 0.9776 - loss: 0.0888 - val_accuracy: 0.8400 - val_loss: 0.6254 - learning_rate: 2.0000e-05\n",
      "Epoch 10/20\n",
      "\u001b[1m2368/2368\u001b[0m \u001b[32m━━━━━━━━━━━━━━━━━━━━\u001b[0m\u001b[37m\u001b[0m \u001b[1m6s\u001b[0m 3ms/step - accuracy: 0.0000e+00 - loss: 0.0000e+00 - val_accuracy: 0.8385 - val_loss: 0.6379 - learning_rate: 2.0000e-05\n",
      "Epoch 11/20\n",
      "\u001b[1m2368/2368\u001b[0m \u001b[32m━━━━━━━━━━━━━━━━━━━━\u001b[0m\u001b[37m\u001b[0m \u001b[1m0s\u001b[0m 204ms/step - accuracy: 0.9881 - loss: 0.0543\n",
      "Epoch 11: ReduceLROnPlateau reducing learning rate to 3.999999898951501e-06.\n",
      "\u001b[1m2368/2368\u001b[0m \u001b[32m━━━━━━━━━━━━━━━━━━━━\u001b[0m\u001b[37m\u001b[0m \u001b[1m492s\u001b[0m 207ms/step - accuracy: 0.9881 - loss: 0.0543 - val_accuracy: 0.8512 - val_loss: 0.6478 - learning_rate: 2.0000e-05\n",
      "Epoch 12/20\n",
      "\u001b[1m2368/2368\u001b[0m \u001b[32m━━━━━━━━━━━━━━━━━━━━\u001b[0m\u001b[37m\u001b[0m \u001b[1m6s\u001b[0m 3ms/step - accuracy: 0.0000e+00 - loss: 0.0000e+00 - val_accuracy: 0.8469 - val_loss: 0.6255 - learning_rate: 4.0000e-06\n",
      "Epoch 13/20\n",
      "\u001b[1m2368/2368\u001b[0m \u001b[32m━━━━━━━━━━━━━━━━━━━━\u001b[0m\u001b[37m\u001b[0m \u001b[1m0s\u001b[0m 205ms/step - accuracy: 0.9918 - loss: 0.0400\n",
      "Epoch 13: ReduceLROnPlateau reducing learning rate to 7.999999979801942e-07.\n",
      "\u001b[1m2368/2368\u001b[0m \u001b[32m━━━━━━━━━━━━━━━━━━━━\u001b[0m\u001b[37m\u001b[0m \u001b[1m493s\u001b[0m 208ms/step - accuracy: 0.9918 - loss: 0.0400 - val_accuracy: 0.8501 - val_loss: 0.6422 - learning_rate: 4.0000e-06\n",
      "Epoch 14/20\n",
      "\u001b[1m2368/2368\u001b[0m \u001b[32m━━━━━━━━━━━━━━━━━━━━\u001b[0m\u001b[37m\u001b[0m \u001b[1m4s\u001b[0m 2ms/step - accuracy: 0.0000e+00 - loss: 0.0000e+00 - val_accuracy: 0.8404 - val_loss: 0.6726 - learning_rate: 8.0000e-07\n",
      "Epoch 15/20\n",
      "\u001b[1m2368/2368\u001b[0m \u001b[32m━━━━━━━━━━━━━━━━━━━━\u001b[0m\u001b[37m\u001b[0m \u001b[1m500s\u001b[0m 210ms/step - accuracy: 0.9930 - loss: 0.0358 - val_accuracy: 0.8546 - val_loss: 0.6046 - learning_rate: 8.0000e-07\n",
      "Epoch 16/20\n",
      "\u001b[1m2368/2368\u001b[0m \u001b[32m━━━━━━━━━━━━━━━━━━━━\u001b[0m\u001b[37m\u001b[0m \u001b[1m6s\u001b[0m 3ms/step - accuracy: 0.0000e+00 - loss: 0.0000e+00 - val_accuracy: 0.8403 - val_loss: 0.6497 - learning_rate: 8.0000e-07\n",
      "Epoch 17/20\n",
      "\u001b[1m2368/2368\u001b[0m \u001b[32m━━━━━━━━━━━━━━━━━━━━\u001b[0m\u001b[37m\u001b[0m \u001b[1m0s\u001b[0m 205ms/step - accuracy: 0.9933 - loss: 0.0357\n",
      "Epoch 17: ReduceLROnPlateau reducing learning rate to 1.600000018697756e-07.\n",
      "\u001b[1m2368/2368\u001b[0m \u001b[32m━━━━━━━━━━━━━━━━━━━━\u001b[0m\u001b[37m\u001b[0m \u001b[1m492s\u001b[0m 207ms/step - accuracy: 0.9934 - loss: 0.0357 - val_accuracy: 0.8448 - val_loss: 0.6345 - learning_rate: 8.0000e-07\n",
      "Epoch 18/20\n",
      "\u001b[1m2368/2368\u001b[0m \u001b[32m━━━━━━━━━━━━━━━━━━━━\u001b[0m\u001b[37m\u001b[0m \u001b[1m6s\u001b[0m 3ms/step - accuracy: 0.0000e+00 - loss: 0.0000e+00 - val_accuracy: 0.8535 - val_loss: 0.6388 - learning_rate: 1.6000e-07\n",
      "Epoch 19/20\n",
      "\u001b[1m2368/2368\u001b[0m \u001b[32m━━━━━━━━━━━━━━━━━━━━\u001b[0m\u001b[37m\u001b[0m \u001b[1m0s\u001b[0m 204ms/step - accuracy: 0.9931 - loss: 0.0348\n",
      "Epoch 19: ReduceLROnPlateau reducing learning rate to 3.199999980552093e-08.\n",
      "\u001b[1m2368/2368\u001b[0m \u001b[32m━━━━━━━━━━━━━━━━━━━━\u001b[0m\u001b[37m\u001b[0m \u001b[1m491s\u001b[0m 207ms/step - accuracy: 0.9931 - loss: 0.0348 - val_accuracy: 0.8509 - val_loss: 0.6125 - learning_rate: 1.6000e-07\n",
      "Epoch 20/20\n",
      "\u001b[1m2368/2368\u001b[0m \u001b[32m━━━━━━━━━━━━━━━━━━━━\u001b[0m\u001b[37m\u001b[0m \u001b[1m6s\u001b[0m 3ms/step - accuracy: 0.0000e+00 - loss: 0.0000e+00 - val_accuracy: 0.8485 - val_loss: 0.6517 - learning_rate: 3.2000e-08\n"
     ]
    }
   ],
   "source": [
    "# Fit the fine-tuned model with callbacks\n",
    "history_101_food_classes_fine_tuned_100_epochs_B4 = model_B4.fit(train_data,\n",
    "                                                     epochs=20,\n",
    "                                                     steps_per_epoch=(len(train_data)),\n",
    "                                                     validation_data=test_data,\n",
    "                                                     validation_steps=int(0.15 * len(test_data)),\n",
    "                                                     callbacks=[fine_tuned_model_checkpoint_B4, earlystopping_callback, reduce_lr])"
   ]
  },
  {
   "cell_type": "code",
   "execution_count": 291,
   "metadata": {
    "execution": {
     "iopub.execute_input": "2025-01-14T14:56:08.046721Z",
     "iopub.status.busy": "2025-01-14T14:56:08.046412Z",
     "iopub.status.idle": "2025-01-14T14:56:50.349534Z",
     "shell.execute_reply": "2025-01-14T14:56:50.348735Z",
     "shell.execute_reply.started": "2025-01-14T14:56:08.046699Z"
    },
    "trusted": true
   },
   "outputs": [
    {
     "name": "stdout",
     "output_type": "stream",
     "text": [
      "\u001b[1m790/790\u001b[0m \u001b[32m━━━━━━━━━━━━━━━━━━━━\u001b[0m\u001b[37m\u001b[0m \u001b[1m42s\u001b[0m 53ms/step - accuracy: 0.8487 - loss: 0.6244\n"
     ]
    },
    {
     "data": {
      "text/plain": [
       "[0.6352185606956482, 0.8479207754135132]"
      ]
     },
     "execution_count": 291,
     "metadata": {},
     "output_type": "execute_result"
    }
   ],
   "source": [
    "model_B4_results = model_B4.evaluate(test_data)\n",
    "model_B4_results"
   ]
  }
 ],
 "metadata": {
  "accelerator": "GPU",
  "colab": {
   "gpuType": "T4",
   "provenance": []
  },
  "kaggle": {
   "accelerator": "nvidiaTeslaT4",
   "dataSources": [],
   "dockerImageVersionId": 30823,
   "isGpuEnabled": true,
   "isInternetEnabled": true,
   "language": "python",
   "sourceType": "notebook"
  },
  "kernelspec": {
   "display_name": "Python 3",
   "language": "python",
   "name": "python3"
  },
  "language_info": {
   "codemirror_mode": {
    "name": "ipython",
    "version": 3
   },
   "file_extension": ".py",
   "mimetype": "text/x-python",
   "name": "python",
   "nbconvert_exporter": "python",
   "pygments_lexer": "ipython3",
   "version": "3.10.12"
  }
 },
 "nbformat": 4,
 "nbformat_minor": 4
}
